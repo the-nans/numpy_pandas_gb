{
  "nbformat": 4,
  "nbformat_minor": 0,
  "metadata": {
    "kernelspec": {
      "display_name": "Python 3",
      "language": "python",
      "name": "python3"
    },
    "language_info": {
      "codemirror_mode": {
        "name": "ipython",
        "version": 3
      },
      "file_extension": ".py",
      "mimetype": "text/x-python",
      "name": "python",
      "nbconvert_exporter": "python",
      "pygments_lexer": "ipython3",
      "version": "3.6.7"
    },
    "colab": {
      "name": "2. Работа с Pandas.ipynb",
      "provenance": [],
      "collapsed_sections": [
        "XXrF9pk0M8AD",
        "TocgP0EEM8AG",
        "1qhrN0LRM8AI",
        "SIydIfo0M8AL",
        "iXes4yFXM8AS",
        "zmNszPGHM8AT",
        "dEFz-DzkM8AX",
        "xiiRN_B3M8AZ",
        "1tZMWnAFM8Ac",
        "DdIOPC_pM8Ae",
        "CEXwS4SRM8Ag",
        "_EqeYyxHM8Ah",
        "UPIYDVCmM8Ak"
      ],
      "include_colab_link": true
    }
  },
  "cells": [
    {
      "cell_type": "markdown",
      "metadata": {
        "id": "view-in-github",
        "colab_type": "text"
      },
      "source": [
        "<a href=\"https://colab.research.google.com/github/the-nans/numpy_pandas_gb/blob/lesson1and2/2_%D0%A0%D0%B0%D0%B1%D0%BE%D1%82%D0%B0_%D1%81_Pandas.ipynb\" target=\"_parent\"><img src=\"https://colab.research.google.com/assets/colab-badge.svg\" alt=\"Open In Colab\"/></a>"
      ]
    },
    {
      "cell_type": "markdown",
      "metadata": {
        "id": "qG9ze975M7_3"
      },
      "source": [
        "# Работа с Pandas\n",
        "\n",
        "`Pandas` - это библиотека, которая позволяет удобно работать с таблицами. Как и в `numpy`, некоторые компоненты библиотеки `pandas` написаны на языке `C`, что ощутимо ускоряет работу с таблицами, содержащими большие объёмы данных.\n",
        "\n",
        "## Series\n",
        "\n",
        "`Series` - это одна из структур данных библиотеки `pandas`. Она представляет собой что-то вроде словаря, однако, является упорядоченной.\n",
        "\n",
        "Создадим какой-нибудь список, а затем получим на его основе объект `Series`:"
      ]
    },
    {
      "cell_type": "code",
      "metadata": {
        "id": "6Q94MUIpM7_4"
      },
      "source": [
        "import pandas as pd"
      ],
      "execution_count": null,
      "outputs": []
    },
    {
      "cell_type": "code",
      "metadata": {
        "id": "CFYdQXDtM7_5",
        "outputId": "27b89248-7128-4cb5-d141-14ac2aa02163"
      },
      "source": [
        "a = [1, 3, 5, 7, 2]\n",
        "\n",
        "b = pd.Series(a)\n",
        "\n",
        "print(b)"
      ],
      "execution_count": null,
      "outputs": [
        {
          "output_type": "stream",
          "text": [
            "0    1\n",
            "1    3\n",
            "2    5\n",
            "3    7\n",
            "4    2\n",
            "dtype: int64\n"
          ],
          "name": "stdout"
        }
      ]
    },
    {
      "cell_type": "markdown",
      "metadata": {
        "id": "I-17AJcBM7_7"
      },
      "source": [
        "В результате такой операции получается объект `Series`, содержащий элементы из списка `a`. Здесь справа располагаются элементы из `a`, а слева - их индексы. Поскольку индексы для этих элементов мы явно не указали, используются стандартные.\n",
        "\n",
        "Индексы можно также указать явно, для этого нужно подать в качестве аргумента `index` список из индексов. Данный список должен быть той же длины, что и список `a`.\n",
        "\n",
        "В качестве индексов можно использовать что угодно: числа, строки и пр. Например, проиндексируем наш список `a` объектами типа `datetime.date`:"
      ]
    },
    {
      "cell_type": "code",
      "metadata": {
        "id": "HYWb-KutM7_7"
      },
      "source": [
        "from datetime import date"
      ],
      "execution_count": null,
      "outputs": []
    },
    {
      "cell_type": "code",
      "metadata": {
        "id": "G8ThLQPnM7_8",
        "outputId": "b1358cc7-4325-4ca2-da98-f277160c4185"
      },
      "source": [
        "index = [date(2019, 4, i) for i in a]\n",
        "\n",
        "c = pd.Series(a, index=index)\n",
        "\n",
        "print(c)"
      ],
      "execution_count": null,
      "outputs": [
        {
          "output_type": "stream",
          "text": [
            "2019-04-01    1\n",
            "2019-04-03    3\n",
            "2019-04-05    5\n",
            "2019-04-07    7\n",
            "2019-04-02    2\n",
            "dtype: int64\n"
          ],
          "name": "stdout"
        }
      ]
    },
    {
      "cell_type": "markdown",
      "metadata": {
        "id": "ZrYQYsR4M7_8"
      },
      "source": [
        "Индексы можно задать сразу, а можно и изменить позже:"
      ]
    },
    {
      "cell_type": "code",
      "metadata": {
        "id": "q3U2ohu7M7_9",
        "outputId": "a4b40492-1a68-4250-b4db-af40b34b6882"
      },
      "source": [
        "b.index = [\"a\", \"b\", \"c\", \"d\", \"e\"]\n",
        "\n",
        "print(b)"
      ],
      "execution_count": null,
      "outputs": [
        {
          "output_type": "stream",
          "text": [
            "a    1\n",
            "b    3\n",
            "c    5\n",
            "d    7\n",
            "e    2\n",
            "dtype: int64\n"
          ],
          "name": "stdout"
        }
      ]
    },
    {
      "cell_type": "markdown",
      "metadata": {
        "id": "1XHY17eIM7_9"
      },
      "source": [
        "Рассмотрим индексы объекта `Series` поподробнее. Их можно получить с помощью атрибута `c.index`:"
      ]
    },
    {
      "cell_type": "code",
      "metadata": {
        "id": "BUJO2iIgM7_9",
        "outputId": "08e1daf9-25ba-4a34-b7d1-6f77908eb2da"
      },
      "source": [
        "c.index"
      ],
      "execution_count": null,
      "outputs": [
        {
          "output_type": "execute_result",
          "data": {
            "text/plain": [
              "Index([2019-04-01, 2019-04-03, 2019-04-05, 2019-04-07, 2019-04-02], dtype='object')"
            ]
          },
          "metadata": {
            "tags": []
          },
          "execution_count": 6
        }
      ]
    },
    {
      "cell_type": "markdown",
      "metadata": {
        "id": "wflNoimGM7_-"
      },
      "source": [
        "Мы видим, что в качестве индексов здесь используются объекты типа `object`. Этот тип объектов используется также в `numpy`. Он используется для объектов, для которых заранее не известно, сколько памяти они требуют (в отличие от, например, `numpy.int64`, для которого заранее известно, сколько памяти под него нужно).\n",
        "\n",
        "Тип `object` в `numpy` и `pandas` приписывается, например, строкам, а также объектам из других библиотек. В массивы данных, состоящие из объектов типа `object` (например, в наш массив `c.index`), помещаются не сами объекты, а лишь указатели на них, а сами объекты хранятся в специально выделенном месте. Мы всё ещё можем использовать для этих объектов методы, присущие им (например, для каждого индекса из массива `c.index` мы можем посмотреть его год, месяц или день):"
      ]
    },
    {
      "cell_type": "code",
      "metadata": {
        "id": "_jEO0o6uM7_-",
        "outputId": "2052b236-7f66-46ee-e11c-ab27d4df19ad"
      },
      "source": [
        "print(c.index[0].month)"
      ],
      "execution_count": null,
      "outputs": [
        {
          "output_type": "stream",
          "text": [
            "4\n"
          ],
          "name": "stdout"
        }
      ]
    },
    {
      "cell_type": "markdown",
      "metadata": {
        "id": "lu8qdwnbM7__"
      },
      "source": [
        "Однако, это возможно делать лишь с отдельными элементами из индекса.\n",
        "\n",
        "В `pandas`, как и в `numpy`, возможно выполнять различные операции с массивами целиком, но лишь когда эти массивы содержат объекты типов, поддерживаемых `numpy` и `pandas` (вроде `numpy.int32` или `numpy.float64`). \n",
        "\n",
        "Для работы с датой и временем в `numpy` также есть специальный тип: `numpy.datetime64`. Приведём элементы нашего индекса к этому типу и посмотрим, что это нам позволит делать. Это можно сделать с помощью функции `pd.to_datetime`, которая получает на вход массив и возвращает новый массив, элементы которого приведены к типу `numpy.datetime64`:"
      ]
    },
    {
      "cell_type": "code",
      "metadata": {
        "id": "fzCEoChFM7__"
      },
      "source": [
        "c.index = pd.to_datetime(c.index)"
      ],
      "execution_count": null,
      "outputs": []
    },
    {
      "cell_type": "markdown",
      "metadata": {
        "id": "eTs8ZzG9M7__"
      },
      "source": [
        "Теперь мы можем, например, посмотреть атрибут `day` у всех элементов индекса одновременно:"
      ]
    },
    {
      "cell_type": "code",
      "metadata": {
        "id": "cHmXtU-JM8AA",
        "outputId": "b927a396-3908-4b3d-a385-38b4514cd6b2"
      },
      "source": [
        "print(c.index.day)"
      ],
      "execution_count": null,
      "outputs": [
        {
          "output_type": "stream",
          "text": [
            "Int64Index([1, 3, 5, 7, 2], dtype='int64')\n"
          ],
          "name": "stdout"
        }
      ]
    },
    {
      "cell_type": "markdown",
      "metadata": {
        "id": "F5b3FirXM8AA"
      },
      "source": [
        "Индексы в `Series` не обязаны быть уникальными:"
      ]
    },
    {
      "cell_type": "code",
      "metadata": {
        "id": "Sm5b8d_5M8AA",
        "outputId": "dea4c528-5262-41f8-867f-ebfb4db5c4b3"
      },
      "source": [
        "d = pd.Series(a, index=[0, 1, 0, 1, 0])\n",
        "\n",
        "print(d)"
      ],
      "execution_count": null,
      "outputs": [
        {
          "output_type": "stream",
          "text": [
            "0    1\n",
            "1    3\n",
            "0    5\n",
            "1    7\n",
            "0    2\n",
            "dtype: int64\n"
          ],
          "name": "stdout"
        }
      ]
    },
    {
      "cell_type": "markdown",
      "metadata": {
        "id": "f6KrHdliM8AB"
      },
      "source": [
        "Тип данных в `Series` можно также задать явно. Можно это сделать либо сразу же:"
      ]
    },
    {
      "cell_type": "code",
      "metadata": {
        "id": "TqYp_hFkM8AB"
      },
      "source": [
        "import numpy as np"
      ],
      "execution_count": null,
      "outputs": []
    },
    {
      "cell_type": "code",
      "metadata": {
        "id": "m1GB1XwAM8AB",
        "outputId": "4a0f5ba7-0618-4990-990f-2c345832f5a9"
      },
      "source": [
        "e = pd.Series(a, dtype=np.float32)\n",
        "\n",
        "print(e)"
      ],
      "execution_count": null,
      "outputs": [
        {
          "output_type": "stream",
          "text": [
            "0    1.0\n",
            "1    3.0\n",
            "2    5.0\n",
            "3    7.0\n",
            "4    2.0\n",
            "dtype: float32\n"
          ],
          "name": "stdout"
        }
      ]
    },
    {
      "cell_type": "markdown",
      "metadata": {
        "id": "2LcZv2EZM8AC"
      },
      "source": [
        "либо позже с помощью метода `.astype`:"
      ]
    },
    {
      "cell_type": "code",
      "metadata": {
        "id": "iRTJWbMYM8AC",
        "outputId": "aeb60276-b019-424e-dc5c-0a5fdf454ca8"
      },
      "source": [
        "e = pd.Series(a)\n",
        "\n",
        "e = e.astype(np.float32)\n",
        "\n",
        "print(e)"
      ],
      "execution_count": null,
      "outputs": [
        {
          "output_type": "stream",
          "text": [
            "0    1.0\n",
            "1    3.0\n",
            "2    5.0\n",
            "3    7.0\n",
            "4    2.0\n",
            "dtype: float32\n"
          ],
          "name": "stdout"
        }
      ]
    },
    {
      "cell_type": "markdown",
      "metadata": {
        "id": "gVWWmUBgM8AC"
      },
      "source": [
        "Создать массив `Series` можно не только из списка, но и из словаря. В таком случае, ключи этого словаря становятся индексами, а соответствующие значения словаря - значениями массива:"
      ]
    },
    {
      "cell_type": "code",
      "metadata": {
        "id": "MtdWE4R6M8AC",
        "outputId": "e434c9bd-5dd0-45cb-fde7-305ebc3076da"
      },
      "source": [
        "dict_ = {\n",
        "    \"1st\": \"a\",\n",
        "    \"2nd\": \"b\",\n",
        "    \"3rd\": \"c\",\n",
        "}\n",
        "\n",
        "f = pd.Series(dict_)\n",
        "\n",
        "print(f)"
      ],
      "execution_count": null,
      "outputs": [
        {
          "output_type": "stream",
          "text": [
            "1st    a\n",
            "2nd    b\n",
            "3rd    c\n",
            "dtype: object\n"
          ],
          "name": "stdout"
        }
      ]
    },
    {
      "cell_type": "markdown",
      "metadata": {
        "id": "buZ5NGFqM8AD"
      },
      "source": [
        "Значения массива `Series` можно получить с помощью атрибута `.values`. Значения массива представлены как `numpy.ndarray`."
      ]
    },
    {
      "cell_type": "code",
      "metadata": {
        "id": "8LiIOFGEM8AD",
        "outputId": "63ae48d4-feb9-49c8-d679-13adfd94159a"
      },
      "source": [
        "f.values"
      ],
      "execution_count": null,
      "outputs": [
        {
          "output_type": "execute_result",
          "data": {
            "text/plain": [
              "array(['a', 'b', 'c'], dtype=object)"
            ]
          },
          "metadata": {
            "tags": []
          },
          "execution_count": 15
        }
      ]
    },
    {
      "cell_type": "markdown",
      "metadata": {
        "id": "XXrF9pk0M8AD"
      },
      "source": [
        "### Выбор данных из массива Series\n",
        "\n",
        "Для получения значений массива `Series` по индексу используется тот же синтаксис, что и с массивами в `numpy`:\n",
        "\n",
        "* Чтобы получить значение или значения по одному индексу, достаточно поставить этот индекс в квадратные скобки после массива: `f[\"1st\"]`.\n",
        "* Если необходимо получить значения по нескольким индексам, в квадратные скобки массива подаётся список индексов: `f[[\"1st\", \"3rd\"]]`.\n",
        "\n",
        "У массивов `Series` также имеются методы `.head` и `.tail`, позволяющие посмотреть, соответственно, первые несколько или последние несколько значений массива. В каждом из этих методов можно указать, сколько именно значений нужно вернуть. По умолчанию возвращается 5 значений."
      ]
    },
    {
      "cell_type": "code",
      "metadata": {
        "id": "eup81c7PM8AE",
        "outputId": "5e59211c-9545-44f8-d60a-ef5ff1668d66"
      },
      "source": [
        "e.tail(3)"
      ],
      "execution_count": null,
      "outputs": [
        {
          "output_type": "execute_result",
          "data": {
            "text/plain": [
              "2    5.0\n",
              "3    7.0\n",
              "4    2.0\n",
              "dtype: float32"
            ]
          },
          "metadata": {
            "tags": []
          },
          "execution_count": 16
        }
      ]
    },
    {
      "cell_type": "markdown",
      "metadata": {
        "id": "3na1sQdAM8AE"
      },
      "source": [
        "Для массивов `Series`, также как и для `numpy`-массивов, доступна булева индексация. С помощью неё можно получать значения массива, которые удовлетворяют некоторому условию:"
      ]
    },
    {
      "cell_type": "code",
      "metadata": {
        "id": "o5PyWjJ6M8AE",
        "outputId": "d11d2129-3e68-4aa1-b3ee-b306cd8e55ff"
      },
      "source": [
        "e[e > 2]"
      ],
      "execution_count": null,
      "outputs": [
        {
          "output_type": "execute_result",
          "data": {
            "text/plain": [
              "1    3.0\n",
              "2    5.0\n",
              "3    7.0\n",
              "dtype: float32"
            ]
          },
          "metadata": {
            "tags": []
          },
          "execution_count": 17
        }
      ]
    },
    {
      "cell_type": "markdown",
      "metadata": {
        "id": "ZpbSZwZCM8AF"
      },
      "source": [
        "Как и ранее, условия можно комбинировать, используя логические операторы \"и\" (обозначается символом $\\&$), \"или\" (символ $\\mid$) и оператор отрицания \"не\" (символ $\\sim$). При этом каждое условие необходимо поставить в круглые скобки:"
      ]
    },
    {
      "cell_type": "code",
      "metadata": {
        "id": "bWVhPaEZM8AF",
        "outputId": "52fbe124-4b3a-412d-e28a-2a4425c46629"
      },
      "source": [
        "e[(e > 2) | (e == 1)]"
      ],
      "execution_count": null,
      "outputs": [
        {
          "output_type": "execute_result",
          "data": {
            "text/plain": [
              "0    1.0\n",
              "1    3.0\n",
              "2    5.0\n",
              "3    7.0\n",
              "dtype: float32"
            ]
          },
          "metadata": {
            "tags": []
          },
          "execution_count": 18
        }
      ]
    },
    {
      "cell_type": "markdown",
      "metadata": {
        "id": "dqPpuKvAM8AF"
      },
      "source": [
        "Изменять массив `Series` можно теми же способами, что и при работе с обычными словарями. Например, команда `e[2] = 4` заменит значение массива `e` с индексом 2 на 4.\n",
        "\n",
        "Однако, в массивах `Series` мы можем менять несколько значений одновременно. Например, с помощью тех же самых условий:"
      ]
    },
    {
      "cell_type": "code",
      "metadata": {
        "id": "r6dM0pO0M8AF",
        "outputId": "7bae4ee4-39f9-4f78-bbdd-43528f27619f"
      },
      "source": [
        "e[e > 2] = -1\n",
        "\n",
        "print(e)"
      ],
      "execution_count": null,
      "outputs": [
        {
          "output_type": "stream",
          "text": [
            "0    1.0\n",
            "1   -1.0\n",
            "2   -1.0\n",
            "3   -1.0\n",
            "4    2.0\n",
            "dtype: float32\n"
          ],
          "name": "stdout"
        }
      ]
    },
    {
      "cell_type": "markdown",
      "metadata": {
        "id": "JZ6rmZfMM8AG"
      },
      "source": [
        "либо передав в массив какие-то конкретные индексы:"
      ]
    },
    {
      "cell_type": "code",
      "metadata": {
        "id": "9q6kT7XLM8AG",
        "outputId": "c6d46c66-3ece-4821-e15d-47a71779a445"
      },
      "source": [
        "e[[1, 3]] = 10\n",
        "\n",
        "print(e)"
      ],
      "execution_count": null,
      "outputs": [
        {
          "output_type": "stream",
          "text": [
            "0     1.0\n",
            "1    10.0\n",
            "2    -1.0\n",
            "3    10.0\n",
            "4     2.0\n",
            "dtype: float32\n"
          ],
          "name": "stdout"
        }
      ]
    },
    {
      "cell_type": "markdown",
      "metadata": {
        "id": "TocgP0EEM8AG"
      },
      "source": [
        "### Добавление и удаление данных в Series\n",
        "\n",
        "С помощью метода `.append` мы можем добавлять к одному массиву `Series` другой:"
      ]
    },
    {
      "cell_type": "code",
      "metadata": {
        "id": "LSmPFY6eM8AH",
        "outputId": "aa482cc0-1f46-40c6-edd8-d673fcc80443"
      },
      "source": [
        "g = e.append(f)\n",
        "\n",
        "print(g)"
      ],
      "execution_count": null,
      "outputs": [
        {
          "output_type": "stream",
          "text": [
            "0       1\n",
            "1      10\n",
            "2      -1\n",
            "3      10\n",
            "4       2\n",
            "1st     a\n",
            "2nd     b\n",
            "3rd     c\n",
            "dtype: object\n"
          ],
          "name": "stdout"
        }
      ]
    },
    {
      "cell_type": "markdown",
      "metadata": {
        "id": "8IogOIS7M8AH"
      },
      "source": [
        "С помощью метода `.drop` мы можем удалять из массива элементы с определёнными индексами. Эти индексы мы и подаём в метод в виде списка:"
      ]
    },
    {
      "cell_type": "code",
      "metadata": {
        "id": "77VLbnwRM8AH",
        "outputId": "8f1047ed-a353-41c5-fae1-4befb157dc1f"
      },
      "source": [
        "h = g.drop([0, 4, \"2nd\"])\n",
        "\n",
        "print(h)"
      ],
      "execution_count": null,
      "outputs": [
        {
          "output_type": "stream",
          "text": [
            "1      10\n",
            "2      -1\n",
            "3      10\n",
            "1st     a\n",
            "3rd     c\n",
            "dtype: object\n"
          ],
          "name": "stdout"
        }
      ]
    },
    {
      "cell_type": "markdown",
      "metadata": {
        "id": "1qhrN0LRM8AI"
      },
      "source": [
        "Обратите внимание, что эти методы, в отличие от аналогичных методов из стандартных библиотек питона, не изменяют исходный массив, но возвращают новый.\n",
        "\n",
        "### Запись и чтение массивов Series из файла\n",
        "\n",
        "\n",
        "Для записи массивов `Series` в файлы используется формат файлов под названием `pickle`. Этот формат позволяет полностью сохранять питоновские объекты, а затем загружать их в неизменном виде.\n",
        "\n",
        "Для записи массива `Series` в файл используется метод `.to_pickle`, а для чтения - функция `np.read_pickle`:"
      ]
    },
    {
      "cell_type": "code",
      "metadata": {
        "id": "pDyqqTMBM8AI"
      },
      "source": [
        "h.to_pickle(\"h.pkl\")"
      ],
      "execution_count": null,
      "outputs": []
    },
    {
      "cell_type": "code",
      "metadata": {
        "id": "T2xR9zATM8AI",
        "outputId": "767a83e1-c93a-43ba-fde4-865f77a07bb7"
      },
      "source": [
        "h = pd.read_pickle(\"h.pkl\")\n",
        "\n",
        "print(h)"
      ],
      "execution_count": null,
      "outputs": [
        {
          "output_type": "stream",
          "text": [
            "1      10\n",
            "2      -1\n",
            "3      10\n",
            "1st     a\n",
            "3rd     c\n",
            "dtype: object\n"
          ],
          "name": "stdout"
        }
      ]
    },
    {
      "cell_type": "markdown",
      "metadata": {
        "id": "a87euWKmM8AI"
      },
      "source": [
        "## DataFrame\n",
        "\n",
        "`DataFrame` - двумерная структура данных из библиотеки `pandas`, позволяющая удобно работать с таблицами.\n",
        "\n",
        "Самый простой способ задать `DataFrame` - с помощью словаря, в котором каждый ключ отвечает за столбец, а соответствующее значение - это список из элементов данного столбца. Эти списки должны иметь одинаковую длину."
      ]
    },
    {
      "cell_type": "code",
      "metadata": {
        "id": "gUDcqlxhM8AJ",
        "outputId": "61f8063e-af05-4fb6-e656-e37dfb9c1cab"
      },
      "source": [
        "a = {\n",
        "    \"col1\": [1, 2, 4, 5, 6, 7, 8],\n",
        "    \"col2\": [\"a\", \"c\", \"e\", \"g\", \"z\", \"x\", \"y\"]\n",
        "}\n",
        "\n",
        "b = pd.DataFrame(a)\n",
        "\n",
        "b"
      ],
      "execution_count": null,
      "outputs": [
        {
          "output_type": "execute_result",
          "data": {
            "text/html": [
              "<div>\n",
              "<style scoped>\n",
              "    .dataframe tbody tr th:only-of-type {\n",
              "        vertical-align: middle;\n",
              "    }\n",
              "\n",
              "    .dataframe tbody tr th {\n",
              "        vertical-align: top;\n",
              "    }\n",
              "\n",
              "    .dataframe thead th {\n",
              "        text-align: right;\n",
              "    }\n",
              "</style>\n",
              "<table border=\"1\" class=\"dataframe\">\n",
              "  <thead>\n",
              "    <tr style=\"text-align: right;\">\n",
              "      <th></th>\n",
              "      <th>col1</th>\n",
              "      <th>col2</th>\n",
              "    </tr>\n",
              "  </thead>\n",
              "  <tbody>\n",
              "    <tr>\n",
              "      <th>0</th>\n",
              "      <td>1</td>\n",
              "      <td>a</td>\n",
              "    </tr>\n",
              "    <tr>\n",
              "      <th>1</th>\n",
              "      <td>2</td>\n",
              "      <td>c</td>\n",
              "    </tr>\n",
              "    <tr>\n",
              "      <th>2</th>\n",
              "      <td>4</td>\n",
              "      <td>e</td>\n",
              "    </tr>\n",
              "    <tr>\n",
              "      <th>3</th>\n",
              "      <td>5</td>\n",
              "      <td>g</td>\n",
              "    </tr>\n",
              "    <tr>\n",
              "      <th>4</th>\n",
              "      <td>6</td>\n",
              "      <td>z</td>\n",
              "    </tr>\n",
              "    <tr>\n",
              "      <th>5</th>\n",
              "      <td>7</td>\n",
              "      <td>x</td>\n",
              "    </tr>\n",
              "    <tr>\n",
              "      <th>6</th>\n",
              "      <td>8</td>\n",
              "      <td>y</td>\n",
              "    </tr>\n",
              "  </tbody>\n",
              "</table>\n",
              "</div>"
            ],
            "text/plain": [
              "   col1 col2\n",
              "0     1    a\n",
              "1     2    c\n",
              "2     4    e\n",
              "3     5    g\n",
              "4     6    z\n",
              "5     7    x\n",
              "6     8    y"
            ]
          },
          "metadata": {
            "tags": []
          },
          "execution_count": 25
        }
      ]
    },
    {
      "cell_type": "markdown",
      "metadata": {
        "id": "jmClG-7YM8AJ"
      },
      "source": [
        "С помощью атрибута `.shape` можно посмотреть форму массива `DataFrame`. Атрибут `.columns` содержит массив из столбцов, а `.index`, как и ранее, содержит массив индексов."
      ]
    },
    {
      "cell_type": "code",
      "metadata": {
        "id": "aqWTwBLbM8AJ",
        "outputId": "43a60fed-fd6d-4eb1-b26c-5db29569b741"
      },
      "source": [
        "print(\"Форма b: {}\".format(b.shape))\n",
        "\n",
        "print(\"Столбцы b: {}\".format(b.columns))\n",
        "\n",
        "print(\"Индексы b: {}\".format(b.index))"
      ],
      "execution_count": null,
      "outputs": [
        {
          "output_type": "stream",
          "text": [
            "Форма b: (7, 2)\n",
            "Столбцы b: Index(['col1', 'col2'], dtype='object')\n",
            "Индексы b: RangeIndex(start=0, stop=7, step=1)\n"
          ],
          "name": "stdout"
        }
      ]
    },
    {
      "cell_type": "markdown",
      "metadata": {
        "id": "9ugiFRCDM8AJ"
      },
      "source": [
        "Общую информацию о массиве можно запросить с помощью метода `.info`. Нам вернётся информация об индексах и столбцах данного массива, о том, какие типы данных хранятся в каждом из столбцов, а также информация о том, сколько памяти выделено под данный массив."
      ]
    },
    {
      "cell_type": "code",
      "metadata": {
        "id": "OWdNWkYlM8AK",
        "outputId": "78170671-95dc-4df3-8761-f2d0ce25045a"
      },
      "source": [
        "b.info()"
      ],
      "execution_count": null,
      "outputs": [
        {
          "output_type": "stream",
          "text": [
            "<class 'pandas.core.frame.DataFrame'>\n",
            "RangeIndex: 7 entries, 0 to 6\n",
            "Data columns (total 2 columns):\n",
            "col1    7 non-null int64\n",
            "col2    7 non-null object\n",
            "dtypes: int64(1), object(1)\n",
            "memory usage: 192.0+ bytes\n"
          ],
          "name": "stdout"
        }
      ]
    },
    {
      "cell_type": "markdown",
      "metadata": {
        "id": "C39qFT-pM8AK"
      },
      "source": [
        "С помощью метода `.describe` можно получить некоторые статистические характеристики по столбцам с числовыми значениями: среднее значение, среднее квадратическое отклонение, максимум, минимум, квантили и пр."
      ]
    },
    {
      "cell_type": "code",
      "metadata": {
        "id": "Yj1TZqXiM8AK",
        "outputId": "ab002a55-4df4-48ea-9a9e-cd500f116211"
      },
      "source": [
        "b.describe()"
      ],
      "execution_count": null,
      "outputs": [
        {
          "output_type": "execute_result",
          "data": {
            "text/html": [
              "<div>\n",
              "<style scoped>\n",
              "    .dataframe tbody tr th:only-of-type {\n",
              "        vertical-align: middle;\n",
              "    }\n",
              "\n",
              "    .dataframe tbody tr th {\n",
              "        vertical-align: top;\n",
              "    }\n",
              "\n",
              "    .dataframe thead th {\n",
              "        text-align: right;\n",
              "    }\n",
              "</style>\n",
              "<table border=\"1\" class=\"dataframe\">\n",
              "  <thead>\n",
              "    <tr style=\"text-align: right;\">\n",
              "      <th></th>\n",
              "      <th>col1</th>\n",
              "    </tr>\n",
              "  </thead>\n",
              "  <tbody>\n",
              "    <tr>\n",
              "      <th>count</th>\n",
              "      <td>7.000000</td>\n",
              "    </tr>\n",
              "    <tr>\n",
              "      <th>mean</th>\n",
              "      <td>4.714286</td>\n",
              "    </tr>\n",
              "    <tr>\n",
              "      <th>std</th>\n",
              "      <td>2.563480</td>\n",
              "    </tr>\n",
              "    <tr>\n",
              "      <th>min</th>\n",
              "      <td>1.000000</td>\n",
              "    </tr>\n",
              "    <tr>\n",
              "      <th>25%</th>\n",
              "      <td>3.000000</td>\n",
              "    </tr>\n",
              "    <tr>\n",
              "      <th>50%</th>\n",
              "      <td>5.000000</td>\n",
              "    </tr>\n",
              "    <tr>\n",
              "      <th>75%</th>\n",
              "      <td>6.500000</td>\n",
              "    </tr>\n",
              "    <tr>\n",
              "      <th>max</th>\n",
              "      <td>8.000000</td>\n",
              "    </tr>\n",
              "  </tbody>\n",
              "</table>\n",
              "</div>"
            ],
            "text/plain": [
              "           col1\n",
              "count  7.000000\n",
              "mean   4.714286\n",
              "std    2.563480\n",
              "min    1.000000\n",
              "25%    3.000000\n",
              "50%    5.000000\n",
              "75%    6.500000\n",
              "max    8.000000"
            ]
          },
          "metadata": {
            "tags": []
          },
          "execution_count": 28
        }
      ]
    },
    {
      "cell_type": "markdown",
      "metadata": {
        "id": "SIydIfo0M8AL"
      },
      "source": [
        "### Выбор данных из массива DataFrame\n",
        "\n",
        "Для получения данных из массива `DataFrame` используется тот же синтаксис, что и для `Series`. Например, с помощью методов `.head` и `.tail` можно получить несколько первых или несколько последних строк таблицы.\n",
        "\n",
        "Отдельный столбец можно получить, передав его название в квадратные скобки массива:"
      ]
    },
    {
      "cell_type": "code",
      "metadata": {
        "id": "E0jbIZl4M8AL",
        "outputId": "350bd85d-4c9f-4552-903c-a6669a4fba18"
      },
      "source": [
        "b[\"col1\"]"
      ],
      "execution_count": null,
      "outputs": [
        {
          "output_type": "execute_result",
          "data": {
            "text/plain": [
              "0    1\n",
              "1    2\n",
              "2    4\n",
              "3    5\n",
              "4    6\n",
              "5    7\n",
              "6    8\n",
              "Name: col1, dtype: int64"
            ]
          },
          "metadata": {
            "tags": []
          },
          "execution_count": 29
        }
      ]
    },
    {
      "cell_type": "markdown",
      "metadata": {
        "id": "wjh-MoZzM8AL"
      },
      "source": [
        "Каждый отдельный столбец массива `DataFrame` возвращается как массив типа `Series`.\n",
        "\n",
        "Если мы хотим указать несколько столбцов, в квадратные скобки нужно подать список из столбцов. Тогда нам вернётся подтаблица исходной таблицы опять в формате `DataFrame`.\n",
        "\n",
        "Получить данные из строк таблицы `DataFrame` можно получить с помощью атрибута `.loc`. Этот атрибут представляет собой что-то вроде двумерного массива. Конкретное значение (или несколько значений) этого массива можно получить, указав нужный индекс строки и название колонки:"
      ]
    },
    {
      "cell_type": "code",
      "metadata": {
        "id": "EmkBsoTJM8AM",
        "outputId": "fc387383-0548-406f-e542-6cb6e4e9d771"
      },
      "source": [
        "b.loc[2, \"col1\"]"
      ],
      "execution_count": null,
      "outputs": [
        {
          "output_type": "execute_result",
          "data": {
            "text/plain": [
              "4"
            ]
          },
          "metadata": {
            "tags": []
          },
          "execution_count": 30
        }
      ]
    },
    {
      "cell_type": "markdown",
      "metadata": {
        "id": "JIG7iaJHM8AM"
      },
      "source": [
        "Как и ранее, вместо каждого из ключей можно подать список ключей, чтобы вернуть несколько значений. Кроме того, второй аргумент можно не указывать, тогда будут возвращены значения из всех столбцов:"
      ]
    },
    {
      "cell_type": "code",
      "metadata": {
        "id": "uoixLL_qM8AN",
        "outputId": "14fbc44a-1081-4a34-e9cf-a43614f385b8"
      },
      "source": [
        "b.loc[[0, 2, 4]]"
      ],
      "execution_count": null,
      "outputs": [
        {
          "output_type": "execute_result",
          "data": {
            "text/html": [
              "<div>\n",
              "<style scoped>\n",
              "    .dataframe tbody tr th:only-of-type {\n",
              "        vertical-align: middle;\n",
              "    }\n",
              "\n",
              "    .dataframe tbody tr th {\n",
              "        vertical-align: top;\n",
              "    }\n",
              "\n",
              "    .dataframe thead th {\n",
              "        text-align: right;\n",
              "    }\n",
              "</style>\n",
              "<table border=\"1\" class=\"dataframe\">\n",
              "  <thead>\n",
              "    <tr style=\"text-align: right;\">\n",
              "      <th></th>\n",
              "      <th>col1</th>\n",
              "      <th>col2</th>\n",
              "    </tr>\n",
              "  </thead>\n",
              "  <tbody>\n",
              "    <tr>\n",
              "      <th>0</th>\n",
              "      <td>1</td>\n",
              "      <td>a</td>\n",
              "    </tr>\n",
              "    <tr>\n",
              "      <th>2</th>\n",
              "      <td>4</td>\n",
              "      <td>e</td>\n",
              "    </tr>\n",
              "    <tr>\n",
              "      <th>4</th>\n",
              "      <td>6</td>\n",
              "      <td>z</td>\n",
              "    </tr>\n",
              "  </tbody>\n",
              "</table>\n",
              "</div>"
            ],
            "text/plain": [
              "   col1 col2\n",
              "0     1    a\n",
              "2     4    e\n",
              "4     6    z"
            ]
          },
          "metadata": {
            "tags": []
          },
          "execution_count": 31
        }
      ]
    },
    {
      "cell_type": "markdown",
      "metadata": {
        "id": "HV9e6vNzM8AN"
      },
      "source": [
        "При использовании атрибута `.loc` мы должны указывать именно индекс нужной строки и название нужного столбца. Бывают ситуации, когда удобнее было бы получить значение по позиции (т.е., например, элемент из третьей строки и второго столбца). Для этого можно использовать атрибут `.iloc`:"
      ]
    },
    {
      "cell_type": "code",
      "metadata": {
        "id": "7dA02xCTM8AN",
        "outputId": "7ecabe40-c1a5-4525-e82e-a21da34cda6d"
      },
      "source": [
        "b.iloc[2, 1]"
      ],
      "execution_count": null,
      "outputs": [
        {
          "output_type": "execute_result",
          "data": {
            "text/plain": [
              "'e'"
            ]
          },
          "metadata": {
            "tags": []
          },
          "execution_count": 32
        }
      ]
    },
    {
      "cell_type": "markdown",
      "metadata": {
        "id": "ffo-OctpM8AO"
      },
      "source": [
        "Как и в `Series`, в массивах `DataFrame` есть возможность использовать булеву индексацию для указания строк. Причём, условия могут касаться любого столбца или набора столбцов. Как и ранее, условия можно комбинировать с помощью логических операторов.\n",
        "\n",
        "Например, получим значения из второго столбца у всех строк, значение первого столбца для которых больше 3 или равно 1:"
      ]
    },
    {
      "cell_type": "code",
      "metadata": {
        "id": "FJLuU33yM8AO",
        "outputId": "674a1f34-6c8c-4aad-9ea9-b05b9ce101e7"
      },
      "source": [
        "b.loc[(b[\"col1\"] > 3) | (b[\"col1\"] == 1), \"col2\"]"
      ],
      "execution_count": null,
      "outputs": [
        {
          "output_type": "execute_result",
          "data": {
            "text/plain": [
              "0    a\n",
              "2    e\n",
              "3    g\n",
              "4    z\n",
              "5    x\n",
              "6    y\n",
              "Name: col2, dtype: object"
            ]
          },
          "metadata": {
            "tags": []
          },
          "execution_count": 33
        }
      ]
    },
    {
      "cell_type": "markdown",
      "metadata": {
        "id": "9C_iCcCPM8AP"
      },
      "source": [
        "В `pandas` есть также несколько методов, упрощающих булеву индексацию:\n",
        "\n",
        "* `b[\"col1\"].between(1, 3)` - все строки, для которых значение в первом столбце лежит между 11 и 13 (включая оба конца)\n",
        "* `b[\"col2\"].isin([\"a\", \"z\"])` - все строки, для которых значение второго столбца содержится в списке `[\"a\", \"z\"]`\n",
        "\n",
        "Их также можно использовать вместе с логическими операторами. Например, получим все строки из таблицы `b`, для которых значение первого столбца лежит между 3 и 6, а значение второго столбца не равно `\"a\"` или `\"z\"`:"
      ]
    },
    {
      "cell_type": "code",
      "metadata": {
        "id": "_MdqtLNJM8AP",
        "outputId": "195d5cac-d840-4c36-893e-bc44b902ca74"
      },
      "source": [
        "b[(b[\"col1\"].between(3, 6)) & (~b[\"col2\"].isin([\"a\", \"z\"]))]"
      ],
      "execution_count": null,
      "outputs": [
        {
          "output_type": "execute_result",
          "data": {
            "text/html": [
              "<div>\n",
              "<style scoped>\n",
              "    .dataframe tbody tr th:only-of-type {\n",
              "        vertical-align: middle;\n",
              "    }\n",
              "\n",
              "    .dataframe tbody tr th {\n",
              "        vertical-align: top;\n",
              "    }\n",
              "\n",
              "    .dataframe thead th {\n",
              "        text-align: right;\n",
              "    }\n",
              "</style>\n",
              "<table border=\"1\" class=\"dataframe\">\n",
              "  <thead>\n",
              "    <tr style=\"text-align: right;\">\n",
              "      <th></th>\n",
              "      <th>col1</th>\n",
              "      <th>col2</th>\n",
              "    </tr>\n",
              "  </thead>\n",
              "  <tbody>\n",
              "    <tr>\n",
              "      <th>2</th>\n",
              "      <td>4</td>\n",
              "      <td>e</td>\n",
              "    </tr>\n",
              "    <tr>\n",
              "      <th>3</th>\n",
              "      <td>5</td>\n",
              "      <td>g</td>\n",
              "    </tr>\n",
              "  </tbody>\n",
              "</table>\n",
              "</div>"
            ],
            "text/plain": [
              "   col1 col2\n",
              "2     4    e\n",
              "3     5    g"
            ]
          },
          "metadata": {
            "tags": []
          },
          "execution_count": 34
        }
      ]
    },
    {
      "cell_type": "markdown",
      "metadata": {
        "id": "ry928bbsM8AP"
      },
      "source": [
        "Более короткий и удобный функционал для таких запросов реализован методом `.query`. В него подаётся строка, содержащая булевы условия на значения столбцов. При этом, переменную массива мы уже не пишем, а к столбцам обращаемся без кавычек. В остальном, допускается тот же синтаксис с использованием булевых операторов. \n",
        "\n",
        "Пример:"
      ]
    },
    {
      "cell_type": "code",
      "metadata": {
        "id": "BPobD00OM8AP",
        "outputId": "ccfd61cd-92c8-458c-a117-b04739c5ad57"
      },
      "source": [
        "b.query('(col1 < 6) & (col2 > \"c\")')"
      ],
      "execution_count": null,
      "outputs": [
        {
          "output_type": "execute_result",
          "data": {
            "text/html": [
              "<div>\n",
              "<style scoped>\n",
              "    .dataframe tbody tr th:only-of-type {\n",
              "        vertical-align: middle;\n",
              "    }\n",
              "\n",
              "    .dataframe tbody tr th {\n",
              "        vertical-align: top;\n",
              "    }\n",
              "\n",
              "    .dataframe thead th {\n",
              "        text-align: right;\n",
              "    }\n",
              "</style>\n",
              "<table border=\"1\" class=\"dataframe\">\n",
              "  <thead>\n",
              "    <tr style=\"text-align: right;\">\n",
              "      <th></th>\n",
              "      <th>col1</th>\n",
              "      <th>col2</th>\n",
              "    </tr>\n",
              "  </thead>\n",
              "  <tbody>\n",
              "    <tr>\n",
              "      <th>2</th>\n",
              "      <td>4</td>\n",
              "      <td>e</td>\n",
              "    </tr>\n",
              "    <tr>\n",
              "      <th>3</th>\n",
              "      <td>5</td>\n",
              "      <td>g</td>\n",
              "    </tr>\n",
              "  </tbody>\n",
              "</table>\n",
              "</div>"
            ],
            "text/plain": [
              "   col1 col2\n",
              "2     4    e\n",
              "3     5    g"
            ]
          },
          "metadata": {
            "tags": []
          },
          "execution_count": 35
        }
      ]
    },
    {
      "cell_type": "markdown",
      "metadata": {
        "id": "5MvXobyAM8AQ"
      },
      "source": [
        "Как мы уже отмечали, выбирая один столбец из `DataFrame`, мы получаем массив `Series`. Если хочется получить столбец именно в виде `DataFrame`, можно запросить запросить его, подавая в квадратные скобки не название столбца, а список, содержащий только один этот столбец:"
      ]
    },
    {
      "cell_type": "code",
      "metadata": {
        "id": "57mLAak9M8AQ",
        "outputId": "9bd4e973-153b-4b87-a37f-75af76e78fca"
      },
      "source": [
        "type(b[\"col1\"])"
      ],
      "execution_count": null,
      "outputs": [
        {
          "output_type": "execute_result",
          "data": {
            "text/plain": [
              "pandas.core.series.Series"
            ]
          },
          "metadata": {
            "tags": []
          },
          "execution_count": 36
        }
      ]
    },
    {
      "cell_type": "code",
      "metadata": {
        "id": "YsGPZT4gM8AR",
        "outputId": "ded505ce-09f7-460d-e8a7-e52a70ab4677"
      },
      "source": [
        "type(b[[\"col1\"]])"
      ],
      "execution_count": null,
      "outputs": [
        {
          "output_type": "execute_result",
          "data": {
            "text/plain": [
              "pandas.core.frame.DataFrame"
            ]
          },
          "metadata": {
            "tags": []
          },
          "execution_count": 37
        }
      ]
    },
    {
      "cell_type": "markdown",
      "metadata": {
        "id": "nz0y9rqSM8AR"
      },
      "source": [
        "В любом случае, конвертировать `Series` в `DataFrame` можно и явно:"
      ]
    },
    {
      "cell_type": "code",
      "metadata": {
        "id": "nwPeWt8XM8AR",
        "outputId": "85f43289-0cb4-4719-c9fd-53f1a0a03dae"
      },
      "source": [
        "c = pd.Series([3, 1, 2])\n",
        "\n",
        "d = pd.DataFrame(c)\n",
        "\n",
        "d"
      ],
      "execution_count": null,
      "outputs": [
        {
          "output_type": "execute_result",
          "data": {
            "text/html": [
              "<div>\n",
              "<style scoped>\n",
              "    .dataframe tbody tr th:only-of-type {\n",
              "        vertical-align: middle;\n",
              "    }\n",
              "\n",
              "    .dataframe tbody tr th {\n",
              "        vertical-align: top;\n",
              "    }\n",
              "\n",
              "    .dataframe thead th {\n",
              "        text-align: right;\n",
              "    }\n",
              "</style>\n",
              "<table border=\"1\" class=\"dataframe\">\n",
              "  <thead>\n",
              "    <tr style=\"text-align: right;\">\n",
              "      <th></th>\n",
              "      <th>0</th>\n",
              "    </tr>\n",
              "  </thead>\n",
              "  <tbody>\n",
              "    <tr>\n",
              "      <th>0</th>\n",
              "      <td>3</td>\n",
              "    </tr>\n",
              "    <tr>\n",
              "      <th>1</th>\n",
              "      <td>1</td>\n",
              "    </tr>\n",
              "    <tr>\n",
              "      <th>2</th>\n",
              "      <td>2</td>\n",
              "    </tr>\n",
              "  </tbody>\n",
              "</table>\n",
              "</div>"
            ],
            "text/plain": [
              "   0\n",
              "0  3\n",
              "1  1\n",
              "2  2"
            ]
          },
          "metadata": {
            "tags": []
          },
          "execution_count": 38
        }
      ]
    },
    {
      "cell_type": "markdown",
      "metadata": {
        "id": "9ne0uSUUM8AS"
      },
      "source": [
        "Если требуется скопировать массив `Series` или `DataFrame`, это можно сделать с помощью метода `.copy`: `e = d.copy()`."
      ]
    },
    {
      "cell_type": "markdown",
      "metadata": {
        "id": "iXes4yFXM8AS"
      },
      "source": [
        "### Случайный выбор значений из DataFrame\n",
        "\n",
        "Случайный выбор строк из массива `DataFrame` производится с помощью метода `.sample`. Вот несколько его важных параметров:\n",
        "\n",
        "* `frac` - какую долю от общего числа строк нужно вернуть (число от 0 до 1)\n",
        "* `n` - сколько строк нужно вернуть (число от 0 до числа строк в массиве)\n",
        "* `replace` - индикатор того, производится ли выбор _с возвращением_, т.е. с возможным повторением строк в выборке, или _без возвращения_ (`True` или `False`)\n",
        "\n",
        "Нельзя использовать параметры `frac` и `n` одновременно, нужно выбрать какой-то один."
      ]
    },
    {
      "cell_type": "code",
      "metadata": {
        "id": "TZmf885yM8AS",
        "outputId": "9ac784c2-bed9-4efc-f7c6-288b7febb5c7"
      },
      "source": [
        "b.sample(frac=0.5, replace=True)"
      ],
      "execution_count": null,
      "outputs": [
        {
          "output_type": "execute_result",
          "data": {
            "text/html": [
              "<div>\n",
              "<style scoped>\n",
              "    .dataframe tbody tr th:only-of-type {\n",
              "        vertical-align: middle;\n",
              "    }\n",
              "\n",
              "    .dataframe tbody tr th {\n",
              "        vertical-align: top;\n",
              "    }\n",
              "\n",
              "    .dataframe thead th {\n",
              "        text-align: right;\n",
              "    }\n",
              "</style>\n",
              "<table border=\"1\" class=\"dataframe\">\n",
              "  <thead>\n",
              "    <tr style=\"text-align: right;\">\n",
              "      <th></th>\n",
              "      <th>col1</th>\n",
              "      <th>col2</th>\n",
              "    </tr>\n",
              "  </thead>\n",
              "  <tbody>\n",
              "    <tr>\n",
              "      <th>0</th>\n",
              "      <td>1</td>\n",
              "      <td>a</td>\n",
              "    </tr>\n",
              "    <tr>\n",
              "      <th>1</th>\n",
              "      <td>2</td>\n",
              "      <td>c</td>\n",
              "    </tr>\n",
              "    <tr>\n",
              "      <th>1</th>\n",
              "      <td>2</td>\n",
              "      <td>c</td>\n",
              "    </tr>\n",
              "    <tr>\n",
              "      <th>4</th>\n",
              "      <td>6</td>\n",
              "      <td>z</td>\n",
              "    </tr>\n",
              "  </tbody>\n",
              "</table>\n",
              "</div>"
            ],
            "text/plain": [
              "   col1 col2\n",
              "0     1    a\n",
              "1     2    c\n",
              "1     2    c\n",
              "4     6    z"
            ]
          },
          "metadata": {
            "tags": []
          },
          "execution_count": 39
        }
      ]
    },
    {
      "cell_type": "markdown",
      "metadata": {
        "id": "zmNszPGHM8AT"
      },
      "source": [
        "Если требуется просто перемешать всю выборку, это также можно выполнить с помощью метода `.sample`, передав в него параметр `frac=1`.\n",
        "\n",
        "### Запись и чтение DataFrame из файлов\n",
        "\n",
        "Для хранения таблиц широко распространён формат файлов с расширением `.csv`.\n",
        "\n",
        "Сохранить массив в файл можно с помощью метода `.to_csv`. Вот несколько важных параметров этого метода:\n",
        "\n",
        "* `sep` - символ, который нужно использовать для разделения значения столбцов между собой. По умолчанию это `\",\"`, но можно также использовать `\";\"`, `\"\\t\"` и др.\n",
        "* `index` - булево значение, индикатор того, нужно ли в файл сохранить также столбец индексов.\n"
      ]
    },
    {
      "cell_type": "code",
      "metadata": {
        "id": "x17lxUchM8AT"
      },
      "source": [
        "b.to_csv(\"test.csv\", sep=\";\", index=False)"
      ],
      "execution_count": null,
      "outputs": []
    },
    {
      "cell_type": "markdown",
      "metadata": {
        "id": "A4WuhtYRM8AU"
      },
      "source": [
        "Прочитать массив из файла можно с помощью функции `pd.read_csv`. Здесь также можно указать разделитель столбцов в параметре `sep`."
      ]
    },
    {
      "cell_type": "code",
      "metadata": {
        "id": "VNkqenU0M8AU",
        "outputId": "00687d33-39c4-45ee-c7d0-c3223e3d7bc9"
      },
      "source": [
        "b = pd.read_csv(\"test.csv\", sep=\";\")\n",
        "\n",
        "b"
      ],
      "execution_count": null,
      "outputs": [
        {
          "output_type": "execute_result",
          "data": {
            "text/html": [
              "<div>\n",
              "<style scoped>\n",
              "    .dataframe tbody tr th:only-of-type {\n",
              "        vertical-align: middle;\n",
              "    }\n",
              "\n",
              "    .dataframe tbody tr th {\n",
              "        vertical-align: top;\n",
              "    }\n",
              "\n",
              "    .dataframe thead th {\n",
              "        text-align: right;\n",
              "    }\n",
              "</style>\n",
              "<table border=\"1\" class=\"dataframe\">\n",
              "  <thead>\n",
              "    <tr style=\"text-align: right;\">\n",
              "      <th></th>\n",
              "      <th>col1</th>\n",
              "      <th>col2</th>\n",
              "    </tr>\n",
              "  </thead>\n",
              "  <tbody>\n",
              "    <tr>\n",
              "      <th>0</th>\n",
              "      <td>1</td>\n",
              "      <td>a</td>\n",
              "    </tr>\n",
              "    <tr>\n",
              "      <th>1</th>\n",
              "      <td>2</td>\n",
              "      <td>c</td>\n",
              "    </tr>\n",
              "    <tr>\n",
              "      <th>2</th>\n",
              "      <td>4</td>\n",
              "      <td>e</td>\n",
              "    </tr>\n",
              "    <tr>\n",
              "      <th>3</th>\n",
              "      <td>5</td>\n",
              "      <td>g</td>\n",
              "    </tr>\n",
              "    <tr>\n",
              "      <th>4</th>\n",
              "      <td>6</td>\n",
              "      <td>z</td>\n",
              "    </tr>\n",
              "    <tr>\n",
              "      <th>5</th>\n",
              "      <td>7</td>\n",
              "      <td>x</td>\n",
              "    </tr>\n",
              "    <tr>\n",
              "      <th>6</th>\n",
              "      <td>8</td>\n",
              "      <td>y</td>\n",
              "    </tr>\n",
              "  </tbody>\n",
              "</table>\n",
              "</div>"
            ],
            "text/plain": [
              "   col1 col2\n",
              "0     1    a\n",
              "1     2    c\n",
              "2     4    e\n",
              "3     5    g\n",
              "4     6    z\n",
              "5     7    x\n",
              "6     8    y"
            ]
          },
          "metadata": {
            "tags": []
          },
          "execution_count": 41
        }
      ]
    },
    {
      "cell_type": "markdown",
      "metadata": {
        "id": "-zEkXKWoM8AU"
      },
      "source": [
        "У данных команд для сохранения и чтения таблиц есть множество других важных и полезных параметров, поэтому рекомендуется также изучить их документацию: [to_csv](https://pandas.pydata.org/pandas-docs/stable/reference/api/pandas.DataFrame.to_csv.html), [read_csv](https://pandas.pydata.org/pandas-docs/stable/reference/api/pandas.read_csv.html).\n",
        "\n",
        "В `pandas` также имеются аналогичные команды для сохранения и записи таблиц как `excel` и `pickle`."
      ]
    },
    {
      "cell_type": "markdown",
      "metadata": {
        "id": "nPWK-eUjM8AV"
      },
      "source": [
        "## Работа с данными в Pandas\n",
        "\n",
        "### Слияние данных\n",
        "\n",
        "Рассмотрим следующий пример. Допустим, что мы работаем с небольшим отделом книжного магазина, в котором продаётся классическая литература на английском языке. Наша задача - систематизировать ассортимент отдела.\n",
        "\n",
        "У нас есть таблица `authors`, содержащая данные об авторах: их идентификаторы (`author_id`) и имена (`author_name`):"
      ]
    },
    {
      "cell_type": "code",
      "metadata": {
        "id": "np61tys3M8AV",
        "outputId": "4704556b-c020-4422-8369-eb9d36c87200"
      },
      "source": [
        "authors = pd.DataFrame({\n",
        "    'author_id': [1, 2, 3],\n",
        "    'author_name': ['Pushkin', 'Tolstoy', 'Dostoevsky'],\n",
        "})\n",
        "\n",
        "authors"
      ],
      "execution_count": null,
      "outputs": [
        {
          "output_type": "execute_result",
          "data": {
            "text/html": [
              "<div>\n",
              "<style scoped>\n",
              "    .dataframe tbody tr th:only-of-type {\n",
              "        vertical-align: middle;\n",
              "    }\n",
              "\n",
              "    .dataframe tbody tr th {\n",
              "        vertical-align: top;\n",
              "    }\n",
              "\n",
              "    .dataframe thead th {\n",
              "        text-align: right;\n",
              "    }\n",
              "</style>\n",
              "<table border=\"1\" class=\"dataframe\">\n",
              "  <thead>\n",
              "    <tr style=\"text-align: right;\">\n",
              "      <th></th>\n",
              "      <th>author_id</th>\n",
              "      <th>author_name</th>\n",
              "    </tr>\n",
              "  </thead>\n",
              "  <tbody>\n",
              "    <tr>\n",
              "      <th>0</th>\n",
              "      <td>1</td>\n",
              "      <td>Pushkin</td>\n",
              "    </tr>\n",
              "    <tr>\n",
              "      <th>1</th>\n",
              "      <td>2</td>\n",
              "      <td>Tolstoy</td>\n",
              "    </tr>\n",
              "    <tr>\n",
              "      <th>2</th>\n",
              "      <td>3</td>\n",
              "      <td>Dostoevsky</td>\n",
              "    </tr>\n",
              "  </tbody>\n",
              "</table>\n",
              "</div>"
            ],
            "text/plain": [
              "   author_id author_name\n",
              "0          1     Pushkin\n",
              "1          2     Tolstoy\n",
              "2          3  Dostoevsky"
            ]
          },
          "metadata": {
            "tags": []
          },
          "execution_count": 42
        }
      ]
    },
    {
      "cell_type": "markdown",
      "metadata": {
        "id": "d2I20iDEM8AV"
      },
      "source": [
        "Кроме того, у нас есть таблица `books`, содержащая информацию о книгах этих авторов. В этой таблице также есть колонка `author_id`, а также колонка `book_title`, содержащая название книги:"
      ]
    },
    {
      "cell_type": "code",
      "metadata": {
        "id": "W5phK2JYM8AW",
        "outputId": "6e0718a0-7a49-4e44-c93f-c57936982c39"
      },
      "source": [
        "books = pd.DataFrame({\n",
        "    'author_id': [2, 3, 3, 4],\n",
        "    'book_title': ['War and Peace', 'The Idiot', 'Crime and Punishment',\n",
        "                   'Fathers and Sons'],\n",
        "})\n",
        "\n",
        "books"
      ],
      "execution_count": null,
      "outputs": [
        {
          "output_type": "execute_result",
          "data": {
            "text/html": [
              "<div>\n",
              "<style scoped>\n",
              "    .dataframe tbody tr th:only-of-type {\n",
              "        vertical-align: middle;\n",
              "    }\n",
              "\n",
              "    .dataframe tbody tr th {\n",
              "        vertical-align: top;\n",
              "    }\n",
              "\n",
              "    .dataframe thead th {\n",
              "        text-align: right;\n",
              "    }\n",
              "</style>\n",
              "<table border=\"1\" class=\"dataframe\">\n",
              "  <thead>\n",
              "    <tr style=\"text-align: right;\">\n",
              "      <th></th>\n",
              "      <th>author_id</th>\n",
              "      <th>book_title</th>\n",
              "    </tr>\n",
              "  </thead>\n",
              "  <tbody>\n",
              "    <tr>\n",
              "      <th>0</th>\n",
              "      <td>2</td>\n",
              "      <td>War and Peace</td>\n",
              "    </tr>\n",
              "    <tr>\n",
              "      <th>1</th>\n",
              "      <td>3</td>\n",
              "      <td>The Idiot</td>\n",
              "    </tr>\n",
              "    <tr>\n",
              "      <th>2</th>\n",
              "      <td>3</td>\n",
              "      <td>Crime and Punishment</td>\n",
              "    </tr>\n",
              "    <tr>\n",
              "      <th>3</th>\n",
              "      <td>4</td>\n",
              "      <td>Fathers and Sons</td>\n",
              "    </tr>\n",
              "  </tbody>\n",
              "</table>\n",
              "</div>"
            ],
            "text/plain": [
              "   author_id            book_title\n",
              "0          2         War and Peace\n",
              "1          3             The Idiot\n",
              "2          3  Crime and Punishment\n",
              "3          4      Fathers and Sons"
            ]
          },
          "metadata": {
            "tags": []
          },
          "execution_count": 43
        }
      ]
    },
    {
      "cell_type": "markdown",
      "metadata": {
        "id": "RTFDjUJNM8AW"
      },
      "source": [
        "Что делать, если мы, например, захотим сопоставить названия книг именам их авторов? Для этого используется функция `pd.merge`: в эту функцию помещаются те таблицы, которые мы хотим соединить, а также несколько других важных аргументов:\n",
        "\n",
        "* `on` - параметр, отвечающий за то, какой столбец мы будем использовать для слияния,\n",
        "* `how` - каким образом производить слияние.\n",
        "\n",
        "Опишем подробнее, какие значения может принимать параметр `how`:\n",
        "\n",
        "* `\"inner\"` - внутреннее слияние. В этом случае в слиянии участвуют только те строки, которые присутствуют в обоих таблицах,\n",
        "* `\"left\"` - в слиянии участвуют все строки из левой таблицы,\n",
        "* `\"right\"` - то же самое, но для правой таблицы,\n",
        "* `\"outer\"` - внешнее слияние, соединяются все строки как из левой, так и из правой таблицы."
      ]
    },
    {
      "cell_type": "code",
      "metadata": {
        "id": "hepxfxL8M8AW",
        "outputId": "6b1fb1dd-f019-4c6c-fcf0-5196d03e7c83"
      },
      "source": [
        "pd.merge(authors, books, on='author_id', how='inner')"
      ],
      "execution_count": null,
      "outputs": [
        {
          "output_type": "execute_result",
          "data": {
            "text/html": [
              "<div>\n",
              "<style scoped>\n",
              "    .dataframe tbody tr th:only-of-type {\n",
              "        vertical-align: middle;\n",
              "    }\n",
              "\n",
              "    .dataframe tbody tr th {\n",
              "        vertical-align: top;\n",
              "    }\n",
              "\n",
              "    .dataframe thead th {\n",
              "        text-align: right;\n",
              "    }\n",
              "</style>\n",
              "<table border=\"1\" class=\"dataframe\">\n",
              "  <thead>\n",
              "    <tr style=\"text-align: right;\">\n",
              "      <th></th>\n",
              "      <th>author_id</th>\n",
              "      <th>author_name</th>\n",
              "      <th>book_title</th>\n",
              "    </tr>\n",
              "  </thead>\n",
              "  <tbody>\n",
              "    <tr>\n",
              "      <th>0</th>\n",
              "      <td>2</td>\n",
              "      <td>Tolstoy</td>\n",
              "      <td>War and Peace</td>\n",
              "    </tr>\n",
              "    <tr>\n",
              "      <th>1</th>\n",
              "      <td>3</td>\n",
              "      <td>Dostoevsky</td>\n",
              "      <td>The Idiot</td>\n",
              "    </tr>\n",
              "    <tr>\n",
              "      <th>2</th>\n",
              "      <td>3</td>\n",
              "      <td>Dostoevsky</td>\n",
              "      <td>Crime and Punishment</td>\n",
              "    </tr>\n",
              "  </tbody>\n",
              "</table>\n",
              "</div>"
            ],
            "text/plain": [
              "   author_id author_name            book_title\n",
              "0          2     Tolstoy         War and Peace\n",
              "1          3  Dostoevsky             The Idiot\n",
              "2          3  Dostoevsky  Crime and Punishment"
            ]
          },
          "metadata": {
            "tags": []
          },
          "execution_count": 44
        }
      ]
    },
    {
      "cell_type": "markdown",
      "metadata": {
        "id": "li-WmPN1M8AW"
      },
      "source": [
        "Если мы выбираем `\"left\"`, `\"right\"` или `\"outer\"`, может случиться так, что строку из одной таблицы будет невозможно соединить со второй. Например, мы видим, что в нашей таблице `books` нет произведений Пушкина (его `id` равен 1). В свою очередь, в таблице `books` есть книга, для которой `author_id` равен 4, хотя, в таблице `authors` нет записи с таким `author_id`. Рассмотрим внешнее слияние этих таблиц:"
      ]
    },
    {
      "cell_type": "code",
      "metadata": {
        "id": "a3UFlXPyM8AX",
        "outputId": "56e49b3a-070e-4729-f048-82cf267635cc"
      },
      "source": [
        "merged_df = pd.merge(authors, books, on='author_id', how='outer')\n",
        "\n",
        "merged_df"
      ],
      "execution_count": null,
      "outputs": [
        {
          "output_type": "execute_result",
          "data": {
            "text/html": [
              "<div>\n",
              "<style scoped>\n",
              "    .dataframe tbody tr th:only-of-type {\n",
              "        vertical-align: middle;\n",
              "    }\n",
              "\n",
              "    .dataframe tbody tr th {\n",
              "        vertical-align: top;\n",
              "    }\n",
              "\n",
              "    .dataframe thead th {\n",
              "        text-align: right;\n",
              "    }\n",
              "</style>\n",
              "<table border=\"1\" class=\"dataframe\">\n",
              "  <thead>\n",
              "    <tr style=\"text-align: right;\">\n",
              "      <th></th>\n",
              "      <th>author_id</th>\n",
              "      <th>author_name</th>\n",
              "      <th>book_title</th>\n",
              "    </tr>\n",
              "  </thead>\n",
              "  <tbody>\n",
              "    <tr>\n",
              "      <th>0</th>\n",
              "      <td>1</td>\n",
              "      <td>Pushkin</td>\n",
              "      <td>NaN</td>\n",
              "    </tr>\n",
              "    <tr>\n",
              "      <th>1</th>\n",
              "      <td>2</td>\n",
              "      <td>Tolstoy</td>\n",
              "      <td>War and Peace</td>\n",
              "    </tr>\n",
              "    <tr>\n",
              "      <th>2</th>\n",
              "      <td>3</td>\n",
              "      <td>Dostoevsky</td>\n",
              "      <td>The Idiot</td>\n",
              "    </tr>\n",
              "    <tr>\n",
              "      <th>3</th>\n",
              "      <td>3</td>\n",
              "      <td>Dostoevsky</td>\n",
              "      <td>Crime and Punishment</td>\n",
              "    </tr>\n",
              "    <tr>\n",
              "      <th>4</th>\n",
              "      <td>4</td>\n",
              "      <td>NaN</td>\n",
              "      <td>Fathers and Sons</td>\n",
              "    </tr>\n",
              "  </tbody>\n",
              "</table>\n",
              "</div>"
            ],
            "text/plain": [
              "   author_id author_name            book_title\n",
              "0          1     Pushkin                   NaN\n",
              "1          2     Tolstoy         War and Peace\n",
              "2          3  Dostoevsky             The Idiot\n",
              "3          3  Dostoevsky  Crime and Punishment\n",
              "4          4         NaN      Fathers and Sons"
            ]
          },
          "metadata": {
            "tags": []
          },
          "execution_count": 45
        }
      ]
    },
    {
      "cell_type": "markdown",
      "metadata": {
        "id": "dEFz-DzkM8AX"
      },
      "source": [
        "Как мы видим, в получившейся таблице присутствуют пропущенные значения (`NaN`).\n",
        "\n",
        "### Работа с пропущенными данными\n",
        "\n",
        "Пропущенные значения в `Series` или `DataFrame` можно получить с помощью метода `.isnull`. Наоборот, все имеющиеся непустые значения можно получить с помощью метода `.notnull`:"
      ]
    },
    {
      "cell_type": "code",
      "metadata": {
        "id": "t6Rx63c3M8AX",
        "outputId": "4f052c21-dca4-45fc-b4a5-f4f73b1afb1f"
      },
      "source": [
        "merged_df[merged_df[\"author_name\"].isnull()]"
      ],
      "execution_count": null,
      "outputs": [
        {
          "output_type": "execute_result",
          "data": {
            "text/html": [
              "<div>\n",
              "<style scoped>\n",
              "    .dataframe tbody tr th:only-of-type {\n",
              "        vertical-align: middle;\n",
              "    }\n",
              "\n",
              "    .dataframe tbody tr th {\n",
              "        vertical-align: top;\n",
              "    }\n",
              "\n",
              "    .dataframe thead th {\n",
              "        text-align: right;\n",
              "    }\n",
              "</style>\n",
              "<table border=\"1\" class=\"dataframe\">\n",
              "  <thead>\n",
              "    <tr style=\"text-align: right;\">\n",
              "      <th></th>\n",
              "      <th>author_id</th>\n",
              "      <th>author_name</th>\n",
              "      <th>book_title</th>\n",
              "    </tr>\n",
              "  </thead>\n",
              "  <tbody>\n",
              "    <tr>\n",
              "      <th>4</th>\n",
              "      <td>4</td>\n",
              "      <td>NaN</td>\n",
              "      <td>Fathers and Sons</td>\n",
              "    </tr>\n",
              "  </tbody>\n",
              "</table>\n",
              "</div>"
            ],
            "text/plain": [
              "   author_id author_name        book_title\n",
              "4          4         NaN  Fathers and Sons"
            ]
          },
          "metadata": {
            "tags": []
          },
          "execution_count": 46
        }
      ]
    },
    {
      "cell_type": "code",
      "metadata": {
        "id": "k84zZ4MaM8AY",
        "outputId": "23298448-2e79-4ce0-dc84-252f0e32cb5d"
      },
      "source": [
        "merged_df[merged_df[\"author_name\"].notnull()]"
      ],
      "execution_count": null,
      "outputs": [
        {
          "output_type": "execute_result",
          "data": {
            "text/html": [
              "<div>\n",
              "<style scoped>\n",
              "    .dataframe tbody tr th:only-of-type {\n",
              "        vertical-align: middle;\n",
              "    }\n",
              "\n",
              "    .dataframe tbody tr th {\n",
              "        vertical-align: top;\n",
              "    }\n",
              "\n",
              "    .dataframe thead th {\n",
              "        text-align: right;\n",
              "    }\n",
              "</style>\n",
              "<table border=\"1\" class=\"dataframe\">\n",
              "  <thead>\n",
              "    <tr style=\"text-align: right;\">\n",
              "      <th></th>\n",
              "      <th>author_id</th>\n",
              "      <th>author_name</th>\n",
              "      <th>book_title</th>\n",
              "    </tr>\n",
              "  </thead>\n",
              "  <tbody>\n",
              "    <tr>\n",
              "      <th>0</th>\n",
              "      <td>1</td>\n",
              "      <td>Pushkin</td>\n",
              "      <td>NaN</td>\n",
              "    </tr>\n",
              "    <tr>\n",
              "      <th>1</th>\n",
              "      <td>2</td>\n",
              "      <td>Tolstoy</td>\n",
              "      <td>War and Peace</td>\n",
              "    </tr>\n",
              "    <tr>\n",
              "      <th>2</th>\n",
              "      <td>3</td>\n",
              "      <td>Dostoevsky</td>\n",
              "      <td>The Idiot</td>\n",
              "    </tr>\n",
              "    <tr>\n",
              "      <th>3</th>\n",
              "      <td>3</td>\n",
              "      <td>Dostoevsky</td>\n",
              "      <td>Crime and Punishment</td>\n",
              "    </tr>\n",
              "  </tbody>\n",
              "</table>\n",
              "</div>"
            ],
            "text/plain": [
              "   author_id author_name            book_title\n",
              "0          1     Pushkin                   NaN\n",
              "1          2     Tolstoy         War and Peace\n",
              "2          3  Dostoevsky             The Idiot\n",
              "3          3  Dostoevsky  Crime and Punishment"
            ]
          },
          "metadata": {
            "tags": []
          },
          "execution_count": 47
        }
      ]
    },
    {
      "cell_type": "markdown",
      "metadata": {
        "id": "U40kWg2QM8AY"
      },
      "source": [
        "Заполнить пропущенные значения каким-то своим значением можно с помощью метода `.fillna()`:"
      ]
    },
    {
      "cell_type": "code",
      "metadata": {
        "id": "YQCMmppUM8AZ",
        "outputId": "57704c6f-6bf4-4096-d8d6-aa274daa2afe"
      },
      "source": [
        "merged_df[\"author_name\"] = merged_df[\"author_name\"].fillna(\"unknown\")\n",
        "\n",
        "merged_df"
      ],
      "execution_count": null,
      "outputs": [
        {
          "output_type": "execute_result",
          "data": {
            "text/html": [
              "<div>\n",
              "<style scoped>\n",
              "    .dataframe tbody tr th:only-of-type {\n",
              "        vertical-align: middle;\n",
              "    }\n",
              "\n",
              "    .dataframe tbody tr th {\n",
              "        vertical-align: top;\n",
              "    }\n",
              "\n",
              "    .dataframe thead th {\n",
              "        text-align: right;\n",
              "    }\n",
              "</style>\n",
              "<table border=\"1\" class=\"dataframe\">\n",
              "  <thead>\n",
              "    <tr style=\"text-align: right;\">\n",
              "      <th></th>\n",
              "      <th>author_id</th>\n",
              "      <th>author_name</th>\n",
              "      <th>book_title</th>\n",
              "    </tr>\n",
              "  </thead>\n",
              "  <tbody>\n",
              "    <tr>\n",
              "      <th>0</th>\n",
              "      <td>1</td>\n",
              "      <td>Pushkin</td>\n",
              "      <td>NaN</td>\n",
              "    </tr>\n",
              "    <tr>\n",
              "      <th>1</th>\n",
              "      <td>2</td>\n",
              "      <td>Tolstoy</td>\n",
              "      <td>War and Peace</td>\n",
              "    </tr>\n",
              "    <tr>\n",
              "      <th>2</th>\n",
              "      <td>3</td>\n",
              "      <td>Dostoevsky</td>\n",
              "      <td>The Idiot</td>\n",
              "    </tr>\n",
              "    <tr>\n",
              "      <th>3</th>\n",
              "      <td>3</td>\n",
              "      <td>Dostoevsky</td>\n",
              "      <td>Crime and Punishment</td>\n",
              "    </tr>\n",
              "    <tr>\n",
              "      <th>4</th>\n",
              "      <td>4</td>\n",
              "      <td>unknown</td>\n",
              "      <td>Fathers and Sons</td>\n",
              "    </tr>\n",
              "  </tbody>\n",
              "</table>\n",
              "</div>"
            ],
            "text/plain": [
              "   author_id author_name            book_title\n",
              "0          1     Pushkin                   NaN\n",
              "1          2     Tolstoy         War and Peace\n",
              "2          3  Dostoevsky             The Idiot\n",
              "3          3  Dostoevsky  Crime and Punishment\n",
              "4          4     unknown      Fathers and Sons"
            ]
          },
          "metadata": {
            "tags": []
          },
          "execution_count": 48
        }
      ]
    },
    {
      "cell_type": "markdown",
      "metadata": {
        "id": "xiiRN_B3M8AZ"
      },
      "source": [
        "### Добавление столбцов в `DataFrame`.\n",
        "\n",
        "Допустим, каждая из наших книг имеется в единственном экземпляре. Мы хотели бы создать в таблице `merged_df` столбец `quantity`, который бы содержал количество экземпляров каждой книги.\n",
        "\n",
        "Создание нового столбца в таблице `DataFrame` происходит аналогично созданию нового значения в словаре `dict`. Достаточно просто объявить значение `merged_df[\"quantity\"]`. Если подать в это значение какое-нибудь число или строку, то все значения в данном столбце приравняются к этому числу или строке. Также можно подать сюда список, тогда значения из этого списка поступят в соответствующие строки этого столбца. В этом случае длина списка обязана совпадать с числом строк таблицы.\n",
        "\n",
        "Итак, выберем все строки с непустым значением поля `book_title`, и для них запишем в столбец `quantity` число 1. Это можно сделать с помощью атрибута `.loc`:"
      ]
    },
    {
      "cell_type": "code",
      "metadata": {
        "id": "696GqJxoM8AZ",
        "outputId": "e62e8b54-acc1-4c67-e9b6-d05efd7021be"
      },
      "source": [
        "merged_df.loc[merged_df[\"book_title\"].notnull(), \"quantity\"] = 1\n",
        "\n",
        "merged_df"
      ],
      "execution_count": null,
      "outputs": [
        {
          "output_type": "execute_result",
          "data": {
            "text/html": [
              "<div>\n",
              "<style scoped>\n",
              "    .dataframe tbody tr th:only-of-type {\n",
              "        vertical-align: middle;\n",
              "    }\n",
              "\n",
              "    .dataframe tbody tr th {\n",
              "        vertical-align: top;\n",
              "    }\n",
              "\n",
              "    .dataframe thead th {\n",
              "        text-align: right;\n",
              "    }\n",
              "</style>\n",
              "<table border=\"1\" class=\"dataframe\">\n",
              "  <thead>\n",
              "    <tr style=\"text-align: right;\">\n",
              "      <th></th>\n",
              "      <th>author_id</th>\n",
              "      <th>author_name</th>\n",
              "      <th>book_title</th>\n",
              "      <th>quantity</th>\n",
              "    </tr>\n",
              "  </thead>\n",
              "  <tbody>\n",
              "    <tr>\n",
              "      <th>0</th>\n",
              "      <td>1</td>\n",
              "      <td>Pushkin</td>\n",
              "      <td>NaN</td>\n",
              "      <td>NaN</td>\n",
              "    </tr>\n",
              "    <tr>\n",
              "      <th>1</th>\n",
              "      <td>2</td>\n",
              "      <td>Tolstoy</td>\n",
              "      <td>War and Peace</td>\n",
              "      <td>1.0</td>\n",
              "    </tr>\n",
              "    <tr>\n",
              "      <th>2</th>\n",
              "      <td>3</td>\n",
              "      <td>Dostoevsky</td>\n",
              "      <td>The Idiot</td>\n",
              "      <td>1.0</td>\n",
              "    </tr>\n",
              "    <tr>\n",
              "      <th>3</th>\n",
              "      <td>3</td>\n",
              "      <td>Dostoevsky</td>\n",
              "      <td>Crime and Punishment</td>\n",
              "      <td>1.0</td>\n",
              "    </tr>\n",
              "    <tr>\n",
              "      <th>4</th>\n",
              "      <td>4</td>\n",
              "      <td>unknown</td>\n",
              "      <td>Fathers and Sons</td>\n",
              "      <td>1.0</td>\n",
              "    </tr>\n",
              "  </tbody>\n",
              "</table>\n",
              "</div>"
            ],
            "text/plain": [
              "   author_id author_name            book_title  quantity\n",
              "0          1     Pushkin                   NaN       NaN\n",
              "1          2     Tolstoy         War and Peace       1.0\n",
              "2          3  Dostoevsky             The Idiot       1.0\n",
              "3          3  Dostoevsky  Crime and Punishment       1.0\n",
              "4          4     unknown      Fathers and Sons       1.0"
            ]
          },
          "metadata": {
            "tags": []
          },
          "execution_count": 49
        }
      ]
    },
    {
      "cell_type": "markdown",
      "metadata": {
        "id": "Jax3sCy-M8Aa"
      },
      "source": [
        "Теперь заполним все пропуски в этом столбце числом 0:"
      ]
    },
    {
      "cell_type": "code",
      "metadata": {
        "id": "_dnIEl80M8Aa",
        "outputId": "2180e904-d7a1-4daa-ceed-677f448cbc63"
      },
      "source": [
        "merged_df[\"quantity\"].fillna(0, inplace=True)\n",
        "\n",
        "merged_df"
      ],
      "execution_count": null,
      "outputs": [
        {
          "output_type": "execute_result",
          "data": {
            "text/html": [
              "<div>\n",
              "<style scoped>\n",
              "    .dataframe tbody tr th:only-of-type {\n",
              "        vertical-align: middle;\n",
              "    }\n",
              "\n",
              "    .dataframe tbody tr th {\n",
              "        vertical-align: top;\n",
              "    }\n",
              "\n",
              "    .dataframe thead th {\n",
              "        text-align: right;\n",
              "    }\n",
              "</style>\n",
              "<table border=\"1\" class=\"dataframe\">\n",
              "  <thead>\n",
              "    <tr style=\"text-align: right;\">\n",
              "      <th></th>\n",
              "      <th>author_id</th>\n",
              "      <th>author_name</th>\n",
              "      <th>book_title</th>\n",
              "      <th>quantity</th>\n",
              "    </tr>\n",
              "  </thead>\n",
              "  <tbody>\n",
              "    <tr>\n",
              "      <th>0</th>\n",
              "      <td>1</td>\n",
              "      <td>Pushkin</td>\n",
              "      <td>NaN</td>\n",
              "      <td>0.0</td>\n",
              "    </tr>\n",
              "    <tr>\n",
              "      <th>1</th>\n",
              "      <td>2</td>\n",
              "      <td>Tolstoy</td>\n",
              "      <td>War and Peace</td>\n",
              "      <td>1.0</td>\n",
              "    </tr>\n",
              "    <tr>\n",
              "      <th>2</th>\n",
              "      <td>3</td>\n",
              "      <td>Dostoevsky</td>\n",
              "      <td>The Idiot</td>\n",
              "      <td>1.0</td>\n",
              "    </tr>\n",
              "    <tr>\n",
              "      <th>3</th>\n",
              "      <td>3</td>\n",
              "      <td>Dostoevsky</td>\n",
              "      <td>Crime and Punishment</td>\n",
              "      <td>1.0</td>\n",
              "    </tr>\n",
              "    <tr>\n",
              "      <th>4</th>\n",
              "      <td>4</td>\n",
              "      <td>unknown</td>\n",
              "      <td>Fathers and Sons</td>\n",
              "      <td>1.0</td>\n",
              "    </tr>\n",
              "  </tbody>\n",
              "</table>\n",
              "</div>"
            ],
            "text/plain": [
              "   author_id author_name            book_title  quantity\n",
              "0          1     Pushkin                   NaN       0.0\n",
              "1          2     Tolstoy         War and Peace       1.0\n",
              "2          3  Dostoevsky             The Idiot       1.0\n",
              "3          3  Dostoevsky  Crime and Punishment       1.0\n",
              "4          4     unknown      Fathers and Sons       1.0"
            ]
          },
          "metadata": {
            "tags": []
          },
          "execution_count": 50
        }
      ]
    },
    {
      "cell_type": "markdown",
      "metadata": {
        "id": "JUI8mm1wM8Ab"
      },
      "source": [
        "Наконец, приведём значения в этом столбце к типу `int`. (Это сделать невозможно, если в столбце содержатся пропуски.)"
      ]
    },
    {
      "cell_type": "code",
      "metadata": {
        "id": "BeB-vyEyM8Ab",
        "outputId": "a033c7c7-b9a2-40bc-97c6-30bcb88cefa6"
      },
      "source": [
        "merged_df[\"quantity\"] = merged_df[\"quantity\"].astype(int)\n",
        "\n",
        "merged_df"
      ],
      "execution_count": null,
      "outputs": [
        {
          "output_type": "execute_result",
          "data": {
            "text/html": [
              "<div>\n",
              "<style scoped>\n",
              "    .dataframe tbody tr th:only-of-type {\n",
              "        vertical-align: middle;\n",
              "    }\n",
              "\n",
              "    .dataframe tbody tr th {\n",
              "        vertical-align: top;\n",
              "    }\n",
              "\n",
              "    .dataframe thead th {\n",
              "        text-align: right;\n",
              "    }\n",
              "</style>\n",
              "<table border=\"1\" class=\"dataframe\">\n",
              "  <thead>\n",
              "    <tr style=\"text-align: right;\">\n",
              "      <th></th>\n",
              "      <th>author_id</th>\n",
              "      <th>author_name</th>\n",
              "      <th>book_title</th>\n",
              "      <th>quantity</th>\n",
              "    </tr>\n",
              "  </thead>\n",
              "  <tbody>\n",
              "    <tr>\n",
              "      <th>0</th>\n",
              "      <td>1</td>\n",
              "      <td>Pushkin</td>\n",
              "      <td>NaN</td>\n",
              "      <td>0</td>\n",
              "    </tr>\n",
              "    <tr>\n",
              "      <th>1</th>\n",
              "      <td>2</td>\n",
              "      <td>Tolstoy</td>\n",
              "      <td>War and Peace</td>\n",
              "      <td>1</td>\n",
              "    </tr>\n",
              "    <tr>\n",
              "      <th>2</th>\n",
              "      <td>3</td>\n",
              "      <td>Dostoevsky</td>\n",
              "      <td>The Idiot</td>\n",
              "      <td>1</td>\n",
              "    </tr>\n",
              "    <tr>\n",
              "      <th>3</th>\n",
              "      <td>3</td>\n",
              "      <td>Dostoevsky</td>\n",
              "      <td>Crime and Punishment</td>\n",
              "      <td>1</td>\n",
              "    </tr>\n",
              "    <tr>\n",
              "      <th>4</th>\n",
              "      <td>4</td>\n",
              "      <td>unknown</td>\n",
              "      <td>Fathers and Sons</td>\n",
              "      <td>1</td>\n",
              "    </tr>\n",
              "  </tbody>\n",
              "</table>\n",
              "</div>"
            ],
            "text/plain": [
              "   author_id author_name            book_title  quantity\n",
              "0          1     Pushkin                   NaN         0\n",
              "1          2     Tolstoy         War and Peace         1\n",
              "2          3  Dostoevsky             The Idiot         1\n",
              "3          3  Dostoevsky  Crime and Punishment         1\n",
              "4          4     unknown      Fathers and Sons         1"
            ]
          },
          "metadata": {
            "tags": []
          },
          "execution_count": 51
        }
      ]
    },
    {
      "cell_type": "markdown",
      "metadata": {
        "id": "o2-d8tRIM8Ab"
      },
      "source": [
        "В `DataFrame` можно использовать индексы по умолчанию, а можно и назначить свои. Например, в качестве индексов можно использовать какой-нибудь из столбцов:"
      ]
    },
    {
      "cell_type": "code",
      "metadata": {
        "id": "AKHgVG2MM8Ac",
        "outputId": "d3a830d5-4d24-471a-880e-f866a9d2254e"
      },
      "source": [
        "merged_df.set_index(\"author_id\", inplace=True)\n",
        "\n",
        "merged_df"
      ],
      "execution_count": null,
      "outputs": [
        {
          "output_type": "execute_result",
          "data": {
            "text/html": [
              "<div>\n",
              "<style scoped>\n",
              "    .dataframe tbody tr th:only-of-type {\n",
              "        vertical-align: middle;\n",
              "    }\n",
              "\n",
              "    .dataframe tbody tr th {\n",
              "        vertical-align: top;\n",
              "    }\n",
              "\n",
              "    .dataframe thead th {\n",
              "        text-align: right;\n",
              "    }\n",
              "</style>\n",
              "<table border=\"1\" class=\"dataframe\">\n",
              "  <thead>\n",
              "    <tr style=\"text-align: right;\">\n",
              "      <th></th>\n",
              "      <th>author_name</th>\n",
              "      <th>book_title</th>\n",
              "      <th>quantity</th>\n",
              "    </tr>\n",
              "    <tr>\n",
              "      <th>author_id</th>\n",
              "      <th></th>\n",
              "      <th></th>\n",
              "      <th></th>\n",
              "    </tr>\n",
              "  </thead>\n",
              "  <tbody>\n",
              "    <tr>\n",
              "      <th>1</th>\n",
              "      <td>Pushkin</td>\n",
              "      <td>NaN</td>\n",
              "      <td>0</td>\n",
              "    </tr>\n",
              "    <tr>\n",
              "      <th>2</th>\n",
              "      <td>Tolstoy</td>\n",
              "      <td>War and Peace</td>\n",
              "      <td>1</td>\n",
              "    </tr>\n",
              "    <tr>\n",
              "      <th>3</th>\n",
              "      <td>Dostoevsky</td>\n",
              "      <td>The Idiot</td>\n",
              "      <td>1</td>\n",
              "    </tr>\n",
              "    <tr>\n",
              "      <th>3</th>\n",
              "      <td>Dostoevsky</td>\n",
              "      <td>Crime and Punishment</td>\n",
              "      <td>1</td>\n",
              "    </tr>\n",
              "    <tr>\n",
              "      <th>4</th>\n",
              "      <td>unknown</td>\n",
              "      <td>Fathers and Sons</td>\n",
              "      <td>1</td>\n",
              "    </tr>\n",
              "  </tbody>\n",
              "</table>\n",
              "</div>"
            ],
            "text/plain": [
              "          author_name            book_title  quantity\n",
              "author_id                                            \n",
              "1             Pushkin                   NaN         0\n",
              "2             Tolstoy         War and Peace         1\n",
              "3          Dostoevsky             The Idiot         1\n",
              "3          Dostoevsky  Crime and Punishment         1\n",
              "4             unknown      Fathers and Sons         1"
            ]
          },
          "metadata": {
            "tags": []
          },
          "execution_count": 52
        }
      ]
    },
    {
      "cell_type": "markdown",
      "metadata": {
        "id": "6QgZhqb4M8Ac"
      },
      "source": [
        "Если что, индексы всегда можно сбросить. Тогда текущие индексы становятся столбцом:"
      ]
    },
    {
      "cell_type": "code",
      "metadata": {
        "id": "eWF0cNn3M8Ac",
        "outputId": "4dc6be27-b796-4abc-f0b8-bacd1158b108"
      },
      "source": [
        "merged_df.reset_index(inplace=True)\n",
        "\n",
        "merged_df"
      ],
      "execution_count": null,
      "outputs": [
        {
          "output_type": "execute_result",
          "data": {
            "text/html": [
              "<div>\n",
              "<style scoped>\n",
              "    .dataframe tbody tr th:only-of-type {\n",
              "        vertical-align: middle;\n",
              "    }\n",
              "\n",
              "    .dataframe tbody tr th {\n",
              "        vertical-align: top;\n",
              "    }\n",
              "\n",
              "    .dataframe thead th {\n",
              "        text-align: right;\n",
              "    }\n",
              "</style>\n",
              "<table border=\"1\" class=\"dataframe\">\n",
              "  <thead>\n",
              "    <tr style=\"text-align: right;\">\n",
              "      <th></th>\n",
              "      <th>author_id</th>\n",
              "      <th>author_name</th>\n",
              "      <th>book_title</th>\n",
              "      <th>quantity</th>\n",
              "    </tr>\n",
              "  </thead>\n",
              "  <tbody>\n",
              "    <tr>\n",
              "      <th>0</th>\n",
              "      <td>1</td>\n",
              "      <td>Pushkin</td>\n",
              "      <td>NaN</td>\n",
              "      <td>0</td>\n",
              "    </tr>\n",
              "    <tr>\n",
              "      <th>1</th>\n",
              "      <td>2</td>\n",
              "      <td>Tolstoy</td>\n",
              "      <td>War and Peace</td>\n",
              "      <td>1</td>\n",
              "    </tr>\n",
              "    <tr>\n",
              "      <th>2</th>\n",
              "      <td>3</td>\n",
              "      <td>Dostoevsky</td>\n",
              "      <td>The Idiot</td>\n",
              "      <td>1</td>\n",
              "    </tr>\n",
              "    <tr>\n",
              "      <th>3</th>\n",
              "      <td>3</td>\n",
              "      <td>Dostoevsky</td>\n",
              "      <td>Crime and Punishment</td>\n",
              "      <td>1</td>\n",
              "    </tr>\n",
              "    <tr>\n",
              "      <th>4</th>\n",
              "      <td>4</td>\n",
              "      <td>unknown</td>\n",
              "      <td>Fathers and Sons</td>\n",
              "      <td>1</td>\n",
              "    </tr>\n",
              "  </tbody>\n",
              "</table>\n",
              "</div>"
            ],
            "text/plain": [
              "   author_id author_name            book_title  quantity\n",
              "0          1     Pushkin                   NaN         0\n",
              "1          2     Tolstoy         War and Peace         1\n",
              "2          3  Dostoevsky             The Idiot         1\n",
              "3          3  Dostoevsky  Crime and Punishment         1\n",
              "4          4     unknown      Fathers and Sons         1"
            ]
          },
          "metadata": {
            "tags": []
          },
          "execution_count": 53
        }
      ]
    },
    {
      "cell_type": "markdown",
      "metadata": {
        "id": "1tZMWnAFM8Ac"
      },
      "source": [
        "### Удаление данных\n",
        "\n",
        "Для удаления данных из `DataFrame` используется метод `.drop`. В этот метод подаётся метка элемента, который необходимо удалить (индекс строки или название столбца), а также ось `axis`. При `axis=0` удаляется строка, при значении `axis=1` - столбец:"
      ]
    },
    {
      "cell_type": "code",
      "metadata": {
        "id": "0W_IP2_SM8Ad",
        "outputId": "4bc30ee6-512f-4481-f927-02c39d3ddc19"
      },
      "source": [
        "merged_df[\"price\"] = 500\n",
        "\n",
        "merged_df"
      ],
      "execution_count": null,
      "outputs": [
        {
          "output_type": "execute_result",
          "data": {
            "text/html": [
              "<div>\n",
              "<style scoped>\n",
              "    .dataframe tbody tr th:only-of-type {\n",
              "        vertical-align: middle;\n",
              "    }\n",
              "\n",
              "    .dataframe tbody tr th {\n",
              "        vertical-align: top;\n",
              "    }\n",
              "\n",
              "    .dataframe thead th {\n",
              "        text-align: right;\n",
              "    }\n",
              "</style>\n",
              "<table border=\"1\" class=\"dataframe\">\n",
              "  <thead>\n",
              "    <tr style=\"text-align: right;\">\n",
              "      <th></th>\n",
              "      <th>author_id</th>\n",
              "      <th>author_name</th>\n",
              "      <th>book_title</th>\n",
              "      <th>quantity</th>\n",
              "      <th>price</th>\n",
              "    </tr>\n",
              "  </thead>\n",
              "  <tbody>\n",
              "    <tr>\n",
              "      <th>0</th>\n",
              "      <td>1</td>\n",
              "      <td>Pushkin</td>\n",
              "      <td>NaN</td>\n",
              "      <td>0</td>\n",
              "      <td>500</td>\n",
              "    </tr>\n",
              "    <tr>\n",
              "      <th>1</th>\n",
              "      <td>2</td>\n",
              "      <td>Tolstoy</td>\n",
              "      <td>War and Peace</td>\n",
              "      <td>1</td>\n",
              "      <td>500</td>\n",
              "    </tr>\n",
              "    <tr>\n",
              "      <th>2</th>\n",
              "      <td>3</td>\n",
              "      <td>Dostoevsky</td>\n",
              "      <td>The Idiot</td>\n",
              "      <td>1</td>\n",
              "      <td>500</td>\n",
              "    </tr>\n",
              "    <tr>\n",
              "      <th>3</th>\n",
              "      <td>3</td>\n",
              "      <td>Dostoevsky</td>\n",
              "      <td>Crime and Punishment</td>\n",
              "      <td>1</td>\n",
              "      <td>500</td>\n",
              "    </tr>\n",
              "    <tr>\n",
              "      <th>4</th>\n",
              "      <td>4</td>\n",
              "      <td>unknown</td>\n",
              "      <td>Fathers and Sons</td>\n",
              "      <td>1</td>\n",
              "      <td>500</td>\n",
              "    </tr>\n",
              "  </tbody>\n",
              "</table>\n",
              "</div>"
            ],
            "text/plain": [
              "   author_id author_name            book_title  quantity  price\n",
              "0          1     Pushkin                   NaN         0    500\n",
              "1          2     Tolstoy         War and Peace         1    500\n",
              "2          3  Dostoevsky             The Idiot         1    500\n",
              "3          3  Dostoevsky  Crime and Punishment         1    500\n",
              "4          4     unknown      Fathers and Sons         1    500"
            ]
          },
          "metadata": {
            "tags": []
          },
          "execution_count": 54
        }
      ]
    },
    {
      "cell_type": "code",
      "metadata": {
        "id": "MTRGQfElM8Ad",
        "outputId": "f08c5be9-cec2-4a1c-980b-9c7edab56a07"
      },
      "source": [
        "merged_df.drop(\"price\", axis=1, inplace=True)\n",
        "\n",
        "merged_df"
      ],
      "execution_count": null,
      "outputs": [
        {
          "output_type": "execute_result",
          "data": {
            "text/html": [
              "<div>\n",
              "<style scoped>\n",
              "    .dataframe tbody tr th:only-of-type {\n",
              "        vertical-align: middle;\n",
              "    }\n",
              "\n",
              "    .dataframe tbody tr th {\n",
              "        vertical-align: top;\n",
              "    }\n",
              "\n",
              "    .dataframe thead th {\n",
              "        text-align: right;\n",
              "    }\n",
              "</style>\n",
              "<table border=\"1\" class=\"dataframe\">\n",
              "  <thead>\n",
              "    <tr style=\"text-align: right;\">\n",
              "      <th></th>\n",
              "      <th>author_id</th>\n",
              "      <th>author_name</th>\n",
              "      <th>book_title</th>\n",
              "      <th>quantity</th>\n",
              "    </tr>\n",
              "  </thead>\n",
              "  <tbody>\n",
              "    <tr>\n",
              "      <th>0</th>\n",
              "      <td>1</td>\n",
              "      <td>Pushkin</td>\n",
              "      <td>NaN</td>\n",
              "      <td>0</td>\n",
              "    </tr>\n",
              "    <tr>\n",
              "      <th>1</th>\n",
              "      <td>2</td>\n",
              "      <td>Tolstoy</td>\n",
              "      <td>War and Peace</td>\n",
              "      <td>1</td>\n",
              "    </tr>\n",
              "    <tr>\n",
              "      <th>2</th>\n",
              "      <td>3</td>\n",
              "      <td>Dostoevsky</td>\n",
              "      <td>The Idiot</td>\n",
              "      <td>1</td>\n",
              "    </tr>\n",
              "    <tr>\n",
              "      <th>3</th>\n",
              "      <td>3</td>\n",
              "      <td>Dostoevsky</td>\n",
              "      <td>Crime and Punishment</td>\n",
              "      <td>1</td>\n",
              "    </tr>\n",
              "    <tr>\n",
              "      <th>4</th>\n",
              "      <td>4</td>\n",
              "      <td>unknown</td>\n",
              "      <td>Fathers and Sons</td>\n",
              "      <td>1</td>\n",
              "    </tr>\n",
              "  </tbody>\n",
              "</table>\n",
              "</div>"
            ],
            "text/plain": [
              "   author_id author_name            book_title  quantity\n",
              "0          1     Pushkin                   NaN         0\n",
              "1          2     Tolstoy         War and Peace         1\n",
              "2          3  Dostoevsky             The Idiot         1\n",
              "3          3  Dostoevsky  Crime and Punishment         1\n",
              "4          4     unknown      Fathers and Sons         1"
            ]
          },
          "metadata": {
            "tags": []
          },
          "execution_count": 55
        }
      ]
    },
    {
      "cell_type": "markdown",
      "metadata": {
        "id": "uGmKTOkkM8Ad"
      },
      "source": [
        "Теперь удалим строку с индексом 1:"
      ]
    },
    {
      "cell_type": "code",
      "metadata": {
        "id": "2jZ3fsNWM8Ae",
        "outputId": "a194801c-631f-4154-b444-c8eb90e9882a"
      },
      "source": [
        "merged_df.drop(1, axis=0, inplace=True)\n",
        "\n",
        "merged_df"
      ],
      "execution_count": null,
      "outputs": [
        {
          "output_type": "execute_result",
          "data": {
            "text/html": [
              "<div>\n",
              "<style scoped>\n",
              "    .dataframe tbody tr th:only-of-type {\n",
              "        vertical-align: middle;\n",
              "    }\n",
              "\n",
              "    .dataframe tbody tr th {\n",
              "        vertical-align: top;\n",
              "    }\n",
              "\n",
              "    .dataframe thead th {\n",
              "        text-align: right;\n",
              "    }\n",
              "</style>\n",
              "<table border=\"1\" class=\"dataframe\">\n",
              "  <thead>\n",
              "    <tr style=\"text-align: right;\">\n",
              "      <th></th>\n",
              "      <th>author_id</th>\n",
              "      <th>author_name</th>\n",
              "      <th>book_title</th>\n",
              "      <th>quantity</th>\n",
              "    </tr>\n",
              "  </thead>\n",
              "  <tbody>\n",
              "    <tr>\n",
              "      <th>0</th>\n",
              "      <td>1</td>\n",
              "      <td>Pushkin</td>\n",
              "      <td>NaN</td>\n",
              "      <td>0</td>\n",
              "    </tr>\n",
              "    <tr>\n",
              "      <th>2</th>\n",
              "      <td>3</td>\n",
              "      <td>Dostoevsky</td>\n",
              "      <td>The Idiot</td>\n",
              "      <td>1</td>\n",
              "    </tr>\n",
              "    <tr>\n",
              "      <th>3</th>\n",
              "      <td>3</td>\n",
              "      <td>Dostoevsky</td>\n",
              "      <td>Crime and Punishment</td>\n",
              "      <td>1</td>\n",
              "    </tr>\n",
              "    <tr>\n",
              "      <th>4</th>\n",
              "      <td>4</td>\n",
              "      <td>unknown</td>\n",
              "      <td>Fathers and Sons</td>\n",
              "      <td>1</td>\n",
              "    </tr>\n",
              "  </tbody>\n",
              "</table>\n",
              "</div>"
            ],
            "text/plain": [
              "   author_id author_name            book_title  quantity\n",
              "0          1     Pushkin                   NaN         0\n",
              "2          3  Dostoevsky             The Idiot         1\n",
              "3          3  Dostoevsky  Crime and Punishment         1\n",
              "4          4     unknown      Fathers and Sons         1"
            ]
          },
          "metadata": {
            "tags": []
          },
          "execution_count": 56
        }
      ]
    },
    {
      "cell_type": "markdown",
      "metadata": {
        "id": "DdIOPC_pM8Ae"
      },
      "source": [
        "### Сортировка данных\n",
        "\n",
        "Вернём только что удалённую строку. Напомним, что для этого используется метод `.append`. Кстати, добавлять строки к `DataFrame` можно прямо в виде словарей `dict`:"
      ]
    },
    {
      "cell_type": "code",
      "metadata": {
        "id": "VzASt_XLM8Ae",
        "outputId": "a6fb4491-537c-4434-d92e-054bc7d84f57"
      },
      "source": [
        "merged_df = merged_df.append(\n",
        "    {\n",
        "        \"author_id\": 2,\n",
        "        \"author_name\": \"Tolstoy\",\n",
        "        \"book_title\": \"War and Peace\",\n",
        "        \"quantity\": 1,\n",
        "    },\n",
        "    ignore_index=True,\n",
        ")\n",
        "\n",
        "merged_df"
      ],
      "execution_count": null,
      "outputs": [
        {
          "output_type": "execute_result",
          "data": {
            "text/html": [
              "<div>\n",
              "<style scoped>\n",
              "    .dataframe tbody tr th:only-of-type {\n",
              "        vertical-align: middle;\n",
              "    }\n",
              "\n",
              "    .dataframe tbody tr th {\n",
              "        vertical-align: top;\n",
              "    }\n",
              "\n",
              "    .dataframe thead th {\n",
              "        text-align: right;\n",
              "    }\n",
              "</style>\n",
              "<table border=\"1\" class=\"dataframe\">\n",
              "  <thead>\n",
              "    <tr style=\"text-align: right;\">\n",
              "      <th></th>\n",
              "      <th>author_id</th>\n",
              "      <th>author_name</th>\n",
              "      <th>book_title</th>\n",
              "      <th>quantity</th>\n",
              "    </tr>\n",
              "  </thead>\n",
              "  <tbody>\n",
              "    <tr>\n",
              "      <th>0</th>\n",
              "      <td>1</td>\n",
              "      <td>Pushkin</td>\n",
              "      <td>NaN</td>\n",
              "      <td>0</td>\n",
              "    </tr>\n",
              "    <tr>\n",
              "      <th>1</th>\n",
              "      <td>3</td>\n",
              "      <td>Dostoevsky</td>\n",
              "      <td>The Idiot</td>\n",
              "      <td>1</td>\n",
              "    </tr>\n",
              "    <tr>\n",
              "      <th>2</th>\n",
              "      <td>3</td>\n",
              "      <td>Dostoevsky</td>\n",
              "      <td>Crime and Punishment</td>\n",
              "      <td>1</td>\n",
              "    </tr>\n",
              "    <tr>\n",
              "      <th>3</th>\n",
              "      <td>4</td>\n",
              "      <td>unknown</td>\n",
              "      <td>Fathers and Sons</td>\n",
              "      <td>1</td>\n",
              "    </tr>\n",
              "    <tr>\n",
              "      <th>4</th>\n",
              "      <td>2</td>\n",
              "      <td>Tolstoy</td>\n",
              "      <td>War and Peace</td>\n",
              "      <td>1</td>\n",
              "    </tr>\n",
              "  </tbody>\n",
              "</table>\n",
              "</div>"
            ],
            "text/plain": [
              "   author_id author_name            book_title  quantity\n",
              "0          1     Pushkin                   NaN         0\n",
              "1          3  Dostoevsky             The Idiot         1\n",
              "2          3  Dostoevsky  Crime and Punishment         1\n",
              "3          4     unknown      Fathers and Sons         1\n",
              "4          2     Tolstoy         War and Peace         1"
            ]
          },
          "metadata": {
            "tags": []
          },
          "execution_count": 57
        }
      ]
    },
    {
      "cell_type": "markdown",
      "metadata": {
        "id": "JeTKN370M8Af"
      },
      "source": [
        "Параметр `ignore_index=True` подаётся сюда, чтобы индексы соединяемых таблиц не учитывались. В результирующей таблице будут использованы стандартные последовательные индексы, начинающиеся с 0.\n",
        "\n",
        "Отсортируем эту таблицу по столбцу `author_id`. Это делается с помощью метода `.sort_values`:"
      ]
    },
    {
      "cell_type": "code",
      "metadata": {
        "id": "4cHNMyqKM8Af",
        "outputId": "be28d8d8-335f-4604-eba4-a7a7ad47c2a5"
      },
      "source": [
        "merged_df.sort_values(by=\"author_id\", inplace=True)\n",
        "\n",
        "merged_df"
      ],
      "execution_count": null,
      "outputs": [
        {
          "output_type": "execute_result",
          "data": {
            "text/html": [
              "<div>\n",
              "<style scoped>\n",
              "    .dataframe tbody tr th:only-of-type {\n",
              "        vertical-align: middle;\n",
              "    }\n",
              "\n",
              "    .dataframe tbody tr th {\n",
              "        vertical-align: top;\n",
              "    }\n",
              "\n",
              "    .dataframe thead th {\n",
              "        text-align: right;\n",
              "    }\n",
              "</style>\n",
              "<table border=\"1\" class=\"dataframe\">\n",
              "  <thead>\n",
              "    <tr style=\"text-align: right;\">\n",
              "      <th></th>\n",
              "      <th>author_id</th>\n",
              "      <th>author_name</th>\n",
              "      <th>book_title</th>\n",
              "      <th>quantity</th>\n",
              "    </tr>\n",
              "  </thead>\n",
              "  <tbody>\n",
              "    <tr>\n",
              "      <th>0</th>\n",
              "      <td>1</td>\n",
              "      <td>Pushkin</td>\n",
              "      <td>NaN</td>\n",
              "      <td>0</td>\n",
              "    </tr>\n",
              "    <tr>\n",
              "      <th>4</th>\n",
              "      <td>2</td>\n",
              "      <td>Tolstoy</td>\n",
              "      <td>War and Peace</td>\n",
              "      <td>1</td>\n",
              "    </tr>\n",
              "    <tr>\n",
              "      <th>1</th>\n",
              "      <td>3</td>\n",
              "      <td>Dostoevsky</td>\n",
              "      <td>The Idiot</td>\n",
              "      <td>1</td>\n",
              "    </tr>\n",
              "    <tr>\n",
              "      <th>2</th>\n",
              "      <td>3</td>\n",
              "      <td>Dostoevsky</td>\n",
              "      <td>Crime and Punishment</td>\n",
              "      <td>1</td>\n",
              "    </tr>\n",
              "    <tr>\n",
              "      <th>3</th>\n",
              "      <td>4</td>\n",
              "      <td>unknown</td>\n",
              "      <td>Fathers and Sons</td>\n",
              "      <td>1</td>\n",
              "    </tr>\n",
              "  </tbody>\n",
              "</table>\n",
              "</div>"
            ],
            "text/plain": [
              "   author_id author_name            book_title  quantity\n",
              "0          1     Pushkin                   NaN         0\n",
              "4          2     Tolstoy         War and Peace         1\n",
              "1          3  Dostoevsky             The Idiot         1\n",
              "2          3  Dostoevsky  Crime and Punishment         1\n",
              "3          4     unknown      Fathers and Sons         1"
            ]
          },
          "metadata": {
            "tags": []
          },
          "execution_count": 58
        }
      ]
    },
    {
      "cell_type": "markdown",
      "metadata": {
        "id": "FzcyPl0UM8Af"
      },
      "source": [
        "Чтобы сбросить индексы, воспользуемся уже известным методом `.reset_index`. В нашем случае, стоит подать в него аргумент `drop=True`, который означает, что текущий столбец из индексов не нужно сохранять в таблице, а можно удалить."
      ]
    },
    {
      "cell_type": "code",
      "metadata": {
        "id": "70b1DSssM8Af",
        "outputId": "36d1eee1-345a-49c8-ae62-bfefbcd91eaa"
      },
      "source": [
        "merged_df.reset_index(drop=True, inplace=True)\n",
        "\n",
        "merged_df"
      ],
      "execution_count": null,
      "outputs": [
        {
          "output_type": "execute_result",
          "data": {
            "text/html": [
              "<div>\n",
              "<style scoped>\n",
              "    .dataframe tbody tr th:only-of-type {\n",
              "        vertical-align: middle;\n",
              "    }\n",
              "\n",
              "    .dataframe tbody tr th {\n",
              "        vertical-align: top;\n",
              "    }\n",
              "\n",
              "    .dataframe thead th {\n",
              "        text-align: right;\n",
              "    }\n",
              "</style>\n",
              "<table border=\"1\" class=\"dataframe\">\n",
              "  <thead>\n",
              "    <tr style=\"text-align: right;\">\n",
              "      <th></th>\n",
              "      <th>author_id</th>\n",
              "      <th>author_name</th>\n",
              "      <th>book_title</th>\n",
              "      <th>quantity</th>\n",
              "    </tr>\n",
              "  </thead>\n",
              "  <tbody>\n",
              "    <tr>\n",
              "      <th>0</th>\n",
              "      <td>1</td>\n",
              "      <td>Pushkin</td>\n",
              "      <td>NaN</td>\n",
              "      <td>0</td>\n",
              "    </tr>\n",
              "    <tr>\n",
              "      <th>1</th>\n",
              "      <td>2</td>\n",
              "      <td>Tolstoy</td>\n",
              "      <td>War and Peace</td>\n",
              "      <td>1</td>\n",
              "    </tr>\n",
              "    <tr>\n",
              "      <th>2</th>\n",
              "      <td>3</td>\n",
              "      <td>Dostoevsky</td>\n",
              "      <td>The Idiot</td>\n",
              "      <td>1</td>\n",
              "    </tr>\n",
              "    <tr>\n",
              "      <th>3</th>\n",
              "      <td>3</td>\n",
              "      <td>Dostoevsky</td>\n",
              "      <td>Crime and Punishment</td>\n",
              "      <td>1</td>\n",
              "    </tr>\n",
              "    <tr>\n",
              "      <th>4</th>\n",
              "      <td>4</td>\n",
              "      <td>unknown</td>\n",
              "      <td>Fathers and Sons</td>\n",
              "      <td>1</td>\n",
              "    </tr>\n",
              "  </tbody>\n",
              "</table>\n",
              "</div>"
            ],
            "text/plain": [
              "   author_id author_name            book_title  quantity\n",
              "0          1     Pushkin                   NaN         0\n",
              "1          2     Tolstoy         War and Peace         1\n",
              "2          3  Dostoevsky             The Idiot         1\n",
              "3          3  Dostoevsky  Crime and Punishment         1\n",
              "4          4     unknown      Fathers and Sons         1"
            ]
          },
          "metadata": {
            "tags": []
          },
          "execution_count": 59
        }
      ]
    },
    {
      "cell_type": "markdown",
      "metadata": {
        "id": "CEXwS4SRM8Ag"
      },
      "source": [
        "### Соединение таблиц\n",
        "\n",
        "Для соединения таблиц можно пользоваться функцией `pd.concat`. С этой функцией мы уже знакомились, когда изучали библиотеку `numpy`. Здесь эта функция работает аналогичным образом: соединяет таблицы либо вертикально (если указан параметр `axis=0`), либо горизонтально (если `axis=1`).\n",
        "\n",
        "Соединение происходит с сохранением индексов, если не указан параметр `ignore_index=True`."
      ]
    },
    {
      "cell_type": "code",
      "metadata": {
        "id": "TxfxIYoPM8Ag",
        "outputId": "574a0488-ebef-4791-879c-4fcc15ea53af"
      },
      "source": [
        "df1 = pd.DataFrame({\n",
        "    'author_id': [3, 5],\n",
        "    'author_name': ['Dostoevsky', 'Chekhov'],\n",
        "    'book_title': ['The Gambler', 'Three Sisters'],\n",
        "    'quantity': [2, 3],\n",
        "})\n",
        "\n",
        "df2 = pd.concat([merged_df, df1], axis=0, ignore_index=True)\n",
        "\n",
        "df2"
      ],
      "execution_count": null,
      "outputs": [
        {
          "output_type": "execute_result",
          "data": {
            "text/html": [
              "<div>\n",
              "<style scoped>\n",
              "    .dataframe tbody tr th:only-of-type {\n",
              "        vertical-align: middle;\n",
              "    }\n",
              "\n",
              "    .dataframe tbody tr th {\n",
              "        vertical-align: top;\n",
              "    }\n",
              "\n",
              "    .dataframe thead th {\n",
              "        text-align: right;\n",
              "    }\n",
              "</style>\n",
              "<table border=\"1\" class=\"dataframe\">\n",
              "  <thead>\n",
              "    <tr style=\"text-align: right;\">\n",
              "      <th></th>\n",
              "      <th>author_id</th>\n",
              "      <th>author_name</th>\n",
              "      <th>book_title</th>\n",
              "      <th>quantity</th>\n",
              "    </tr>\n",
              "  </thead>\n",
              "  <tbody>\n",
              "    <tr>\n",
              "      <th>0</th>\n",
              "      <td>1</td>\n",
              "      <td>Pushkin</td>\n",
              "      <td>NaN</td>\n",
              "      <td>0</td>\n",
              "    </tr>\n",
              "    <tr>\n",
              "      <th>1</th>\n",
              "      <td>2</td>\n",
              "      <td>Tolstoy</td>\n",
              "      <td>War and Peace</td>\n",
              "      <td>1</td>\n",
              "    </tr>\n",
              "    <tr>\n",
              "      <th>2</th>\n",
              "      <td>3</td>\n",
              "      <td>Dostoevsky</td>\n",
              "      <td>The Idiot</td>\n",
              "      <td>1</td>\n",
              "    </tr>\n",
              "    <tr>\n",
              "      <th>3</th>\n",
              "      <td>3</td>\n",
              "      <td>Dostoevsky</td>\n",
              "      <td>Crime and Punishment</td>\n",
              "      <td>1</td>\n",
              "    </tr>\n",
              "    <tr>\n",
              "      <th>4</th>\n",
              "      <td>4</td>\n",
              "      <td>unknown</td>\n",
              "      <td>Fathers and Sons</td>\n",
              "      <td>1</td>\n",
              "    </tr>\n",
              "    <tr>\n",
              "      <th>5</th>\n",
              "      <td>3</td>\n",
              "      <td>Dostoevsky</td>\n",
              "      <td>The Gambler</td>\n",
              "      <td>2</td>\n",
              "    </tr>\n",
              "    <tr>\n",
              "      <th>6</th>\n",
              "      <td>5</td>\n",
              "      <td>Chekhov</td>\n",
              "      <td>Three Sisters</td>\n",
              "      <td>3</td>\n",
              "    </tr>\n",
              "  </tbody>\n",
              "</table>\n",
              "</div>"
            ],
            "text/plain": [
              "   author_id author_name            book_title  quantity\n",
              "0          1     Pushkin                   NaN         0\n",
              "1          2     Tolstoy         War and Peace         1\n",
              "2          3  Dostoevsky             The Idiot         1\n",
              "3          3  Dostoevsky  Crime and Punishment         1\n",
              "4          4     unknown      Fathers and Sons         1\n",
              "5          3  Dostoevsky           The Gambler         2\n",
              "6          5     Chekhov         Three Sisters         3"
            ]
          },
          "metadata": {
            "tags": []
          },
          "execution_count": 60
        }
      ]
    },
    {
      "cell_type": "code",
      "metadata": {
        "id": "rD6BrrDgM8Ag",
        "outputId": "86884b6d-fd6d-4c3e-9ce5-aa9459c745f1"
      },
      "source": [
        "df3 = pd.DataFrame(\n",
        "    {'price': [700, 450, 500, 400, 350]},\n",
        "    index=[1, 2, 3, 5, 6],\n",
        ")\n",
        "\n",
        "df4 = pd.concat([df2, df3], axis=1)\n",
        "\n",
        "df4"
      ],
      "execution_count": null,
      "outputs": [
        {
          "output_type": "execute_result",
          "data": {
            "text/html": [
              "<div>\n",
              "<style scoped>\n",
              "    .dataframe tbody tr th:only-of-type {\n",
              "        vertical-align: middle;\n",
              "    }\n",
              "\n",
              "    .dataframe tbody tr th {\n",
              "        vertical-align: top;\n",
              "    }\n",
              "\n",
              "    .dataframe thead th {\n",
              "        text-align: right;\n",
              "    }\n",
              "</style>\n",
              "<table border=\"1\" class=\"dataframe\">\n",
              "  <thead>\n",
              "    <tr style=\"text-align: right;\">\n",
              "      <th></th>\n",
              "      <th>author_id</th>\n",
              "      <th>author_name</th>\n",
              "      <th>book_title</th>\n",
              "      <th>quantity</th>\n",
              "      <th>price</th>\n",
              "    </tr>\n",
              "  </thead>\n",
              "  <tbody>\n",
              "    <tr>\n",
              "      <th>0</th>\n",
              "      <td>1</td>\n",
              "      <td>Pushkin</td>\n",
              "      <td>NaN</td>\n",
              "      <td>0</td>\n",
              "      <td>NaN</td>\n",
              "    </tr>\n",
              "    <tr>\n",
              "      <th>1</th>\n",
              "      <td>2</td>\n",
              "      <td>Tolstoy</td>\n",
              "      <td>War and Peace</td>\n",
              "      <td>1</td>\n",
              "      <td>700.0</td>\n",
              "    </tr>\n",
              "    <tr>\n",
              "      <th>2</th>\n",
              "      <td>3</td>\n",
              "      <td>Dostoevsky</td>\n",
              "      <td>The Idiot</td>\n",
              "      <td>1</td>\n",
              "      <td>450.0</td>\n",
              "    </tr>\n",
              "    <tr>\n",
              "      <th>3</th>\n",
              "      <td>3</td>\n",
              "      <td>Dostoevsky</td>\n",
              "      <td>Crime and Punishment</td>\n",
              "      <td>1</td>\n",
              "      <td>500.0</td>\n",
              "    </tr>\n",
              "    <tr>\n",
              "      <th>4</th>\n",
              "      <td>4</td>\n",
              "      <td>unknown</td>\n",
              "      <td>Fathers and Sons</td>\n",
              "      <td>1</td>\n",
              "      <td>NaN</td>\n",
              "    </tr>\n",
              "    <tr>\n",
              "      <th>5</th>\n",
              "      <td>3</td>\n",
              "      <td>Dostoevsky</td>\n",
              "      <td>The Gambler</td>\n",
              "      <td>2</td>\n",
              "      <td>400.0</td>\n",
              "    </tr>\n",
              "    <tr>\n",
              "      <th>6</th>\n",
              "      <td>5</td>\n",
              "      <td>Chekhov</td>\n",
              "      <td>Three Sisters</td>\n",
              "      <td>3</td>\n",
              "      <td>350.0</td>\n",
              "    </tr>\n",
              "  </tbody>\n",
              "</table>\n",
              "</div>"
            ],
            "text/plain": [
              "   author_id author_name            book_title  quantity  price\n",
              "0          1     Pushkin                   NaN         0    NaN\n",
              "1          2     Tolstoy         War and Peace         1  700.0\n",
              "2          3  Dostoevsky             The Idiot         1  450.0\n",
              "3          3  Dostoevsky  Crime and Punishment         1  500.0\n",
              "4          4     unknown      Fathers and Sons         1    NaN\n",
              "5          3  Dostoevsky           The Gambler         2  400.0\n",
              "6          5     Chekhov         Three Sisters         3  350.0"
            ]
          },
          "metadata": {
            "tags": []
          },
          "execution_count": 61
        }
      ]
    },
    {
      "cell_type": "markdown",
      "metadata": {
        "id": "_EqeYyxHM8Ah"
      },
      "source": [
        "### Операции над таблицами\n",
        "\n",
        "Как и ранее с массивами `numpy` и `Series`, с таблицами `DataFrame` можно производить различные математические операции. Например, значения различных столбцов можно поэлементно перемножать, складывать и пр."
      ]
    },
    {
      "cell_type": "code",
      "metadata": {
        "id": "q40jY03ZM8Ah",
        "outputId": "f0efaaea-0a11-42e7-ecfb-7f735ba568a2"
      },
      "source": [
        "df4[\"total\"] = df4[\"quantity\"] * df4[\"price\"]\n",
        "\n",
        "df4"
      ],
      "execution_count": null,
      "outputs": [
        {
          "output_type": "execute_result",
          "data": {
            "text/html": [
              "<div>\n",
              "<style scoped>\n",
              "    .dataframe tbody tr th:only-of-type {\n",
              "        vertical-align: middle;\n",
              "    }\n",
              "\n",
              "    .dataframe tbody tr th {\n",
              "        vertical-align: top;\n",
              "    }\n",
              "\n",
              "    .dataframe thead th {\n",
              "        text-align: right;\n",
              "    }\n",
              "</style>\n",
              "<table border=\"1\" class=\"dataframe\">\n",
              "  <thead>\n",
              "    <tr style=\"text-align: right;\">\n",
              "      <th></th>\n",
              "      <th>author_id</th>\n",
              "      <th>author_name</th>\n",
              "      <th>book_title</th>\n",
              "      <th>quantity</th>\n",
              "      <th>price</th>\n",
              "      <th>total</th>\n",
              "    </tr>\n",
              "  </thead>\n",
              "  <tbody>\n",
              "    <tr>\n",
              "      <th>0</th>\n",
              "      <td>1</td>\n",
              "      <td>Pushkin</td>\n",
              "      <td>NaN</td>\n",
              "      <td>0</td>\n",
              "      <td>NaN</td>\n",
              "      <td>NaN</td>\n",
              "    </tr>\n",
              "    <tr>\n",
              "      <th>1</th>\n",
              "      <td>2</td>\n",
              "      <td>Tolstoy</td>\n",
              "      <td>War and Peace</td>\n",
              "      <td>1</td>\n",
              "      <td>700.0</td>\n",
              "      <td>700.0</td>\n",
              "    </tr>\n",
              "    <tr>\n",
              "      <th>2</th>\n",
              "      <td>3</td>\n",
              "      <td>Dostoevsky</td>\n",
              "      <td>The Idiot</td>\n",
              "      <td>1</td>\n",
              "      <td>450.0</td>\n",
              "      <td>450.0</td>\n",
              "    </tr>\n",
              "    <tr>\n",
              "      <th>3</th>\n",
              "      <td>3</td>\n",
              "      <td>Dostoevsky</td>\n",
              "      <td>Crime and Punishment</td>\n",
              "      <td>1</td>\n",
              "      <td>500.0</td>\n",
              "      <td>500.0</td>\n",
              "    </tr>\n",
              "    <tr>\n",
              "      <th>4</th>\n",
              "      <td>4</td>\n",
              "      <td>unknown</td>\n",
              "      <td>Fathers and Sons</td>\n",
              "      <td>1</td>\n",
              "      <td>NaN</td>\n",
              "      <td>NaN</td>\n",
              "    </tr>\n",
              "    <tr>\n",
              "      <th>5</th>\n",
              "      <td>3</td>\n",
              "      <td>Dostoevsky</td>\n",
              "      <td>The Gambler</td>\n",
              "      <td>2</td>\n",
              "      <td>400.0</td>\n",
              "      <td>800.0</td>\n",
              "    </tr>\n",
              "    <tr>\n",
              "      <th>6</th>\n",
              "      <td>5</td>\n",
              "      <td>Chekhov</td>\n",
              "      <td>Three Sisters</td>\n",
              "      <td>3</td>\n",
              "      <td>350.0</td>\n",
              "      <td>1050.0</td>\n",
              "    </tr>\n",
              "  </tbody>\n",
              "</table>\n",
              "</div>"
            ],
            "text/plain": [
              "   author_id author_name            book_title  quantity  price   total\n",
              "0          1     Pushkin                   NaN         0    NaN     NaN\n",
              "1          2     Tolstoy         War and Peace         1  700.0   700.0\n",
              "2          3  Dostoevsky             The Idiot         1  450.0   450.0\n",
              "3          3  Dostoevsky  Crime and Punishment         1  500.0   500.0\n",
              "4          4     unknown      Fathers and Sons         1    NaN     NaN\n",
              "5          3  Dostoevsky           The Gambler         2  400.0   800.0\n",
              "6          5     Chekhov         Three Sisters         3  350.0  1050.0"
            ]
          },
          "metadata": {
            "tags": []
          },
          "execution_count": 62
        }
      ]
    },
    {
      "cell_type": "markdown",
      "metadata": {
        "id": "TA-BmvMNM8Ah"
      },
      "source": [
        "С помощью следующих методов можно посчитать основные статистики по желаемым столбцам:\n",
        "\n",
        "* `df4[\"price\"].max()` - максимум\n",
        "* `df4[\"price\"].min()` - минимум\n",
        "* `df4[\"price\"].mean()` - среднее\n",
        "* `df4[\"price\"].median()` - медиана\n",
        "* `df4[\"price\"].std()` - среднее квадратическое значение\n",
        "* `df4[\"price\"].var()` - дисперсия\n",
        "\n",
        "С помощью метода `.nlargest` можно вывести несколько наибольших значений. Указывается то, сколько значений нужно вернуть, а также то, по какому именно значению нужно сортировать:"
      ]
    },
    {
      "cell_type": "code",
      "metadata": {
        "id": "3ckGIz8SM8Ai",
        "outputId": "44904130-b627-4bf3-ab9d-5b41ea2da774"
      },
      "source": [
        "df4.nlargest(3, \"price\")"
      ],
      "execution_count": null,
      "outputs": [
        {
          "output_type": "execute_result",
          "data": {
            "text/html": [
              "<div>\n",
              "<style scoped>\n",
              "    .dataframe tbody tr th:only-of-type {\n",
              "        vertical-align: middle;\n",
              "    }\n",
              "\n",
              "    .dataframe tbody tr th {\n",
              "        vertical-align: top;\n",
              "    }\n",
              "\n",
              "    .dataframe thead th {\n",
              "        text-align: right;\n",
              "    }\n",
              "</style>\n",
              "<table border=\"1\" class=\"dataframe\">\n",
              "  <thead>\n",
              "    <tr style=\"text-align: right;\">\n",
              "      <th></th>\n",
              "      <th>author_id</th>\n",
              "      <th>author_name</th>\n",
              "      <th>book_title</th>\n",
              "      <th>quantity</th>\n",
              "      <th>price</th>\n",
              "      <th>total</th>\n",
              "    </tr>\n",
              "  </thead>\n",
              "  <tbody>\n",
              "    <tr>\n",
              "      <th>1</th>\n",
              "      <td>2</td>\n",
              "      <td>Tolstoy</td>\n",
              "      <td>War and Peace</td>\n",
              "      <td>1</td>\n",
              "      <td>700.0</td>\n",
              "      <td>700.0</td>\n",
              "    </tr>\n",
              "    <tr>\n",
              "      <th>3</th>\n",
              "      <td>3</td>\n",
              "      <td>Dostoevsky</td>\n",
              "      <td>Crime and Punishment</td>\n",
              "      <td>1</td>\n",
              "      <td>500.0</td>\n",
              "      <td>500.0</td>\n",
              "    </tr>\n",
              "    <tr>\n",
              "      <th>2</th>\n",
              "      <td>3</td>\n",
              "      <td>Dostoevsky</td>\n",
              "      <td>The Idiot</td>\n",
              "      <td>1</td>\n",
              "      <td>450.0</td>\n",
              "      <td>450.0</td>\n",
              "    </tr>\n",
              "  </tbody>\n",
              "</table>\n",
              "</div>"
            ],
            "text/plain": [
              "   author_id author_name            book_title  quantity  price  total\n",
              "1          2     Tolstoy         War and Peace         1  700.0  700.0\n",
              "3          3  Dostoevsky  Crime and Punishment         1  500.0  500.0\n",
              "2          3  Dostoevsky             The Idiot         1  450.0  450.0"
            ]
          },
          "metadata": {
            "tags": []
          },
          "execution_count": 63
        }
      ]
    },
    {
      "cell_type": "markdown",
      "metadata": {
        "id": "uMSa9Wh3M8Ai"
      },
      "source": [
        "Имеется также аналогичный метод `.nsmallest`.\n",
        "\n",
        "С помощью метода `.unique` можно получить уникальные значения заданного столбца:"
      ]
    },
    {
      "cell_type": "code",
      "metadata": {
        "id": "9JihpvDRM8Ai",
        "outputId": "7dca741e-5039-44ce-86b0-94aa8712ead7"
      },
      "source": [
        "df4[\"author_name\"].unique()"
      ],
      "execution_count": null,
      "outputs": [
        {
          "output_type": "execute_result",
          "data": {
            "text/plain": [
              "array(['Pushkin', 'Tolstoy', 'Dostoevsky', 'unknown', 'Chekhov'],\n",
              "      dtype=object)"
            ]
          },
          "metadata": {
            "tags": []
          },
          "execution_count": 64
        }
      ]
    },
    {
      "cell_type": "markdown",
      "metadata": {
        "id": "T3d1MjB5M8Aj"
      },
      "source": [
        "Если нужно получить не уникальные значения, а лишь их количество, можно воспользоваться методом `.nunique`.\n",
        "\n",
        "С помощью метода `.value_counts` можно получить информацию о том, сколько раз каждое уникальное значение появляется в данном столбце:"
      ]
    },
    {
      "cell_type": "code",
      "metadata": {
        "id": "8gaMv25LM8Aj",
        "outputId": "48acd327-e5c4-4e14-8595-4b31f07d06c9"
      },
      "source": [
        "df4[\"author_name\"].value_counts()"
      ],
      "execution_count": null,
      "outputs": [
        {
          "output_type": "execute_result",
          "data": {
            "text/plain": [
              "Dostoevsky    3\n",
              "Pushkin       1\n",
              "Chekhov       1\n",
              "Tolstoy       1\n",
              "unknown       1\n",
              "Name: author_name, dtype: int64"
            ]
          },
          "metadata": {
            "tags": []
          },
          "execution_count": 65
        }
      ]
    },
    {
      "cell_type": "markdown",
      "metadata": {
        "id": "vG6T7rohM8Aj"
      },
      "source": [
        "К значениям таблицы можно применять и функции, которые не имеются в библиотеках `pandas` и `numpy`. Делается это с помощью метода `.apply`:"
      ]
    },
    {
      "cell_type": "code",
      "metadata": {
        "id": "itwoZbt6M8Aj",
        "outputId": "cf88f4a1-478c-4ec6-eef8-b8d2de5fc138"
      },
      "source": [
        "df4[\"author_name\"].apply(lambda x: x.upper())"
      ],
      "execution_count": null,
      "outputs": [
        {
          "output_type": "execute_result",
          "data": {
            "text/plain": [
              "0       PUSHKIN\n",
              "1       TOLSTOY\n",
              "2    DOSTOEVSKY\n",
              "3    DOSTOEVSKY\n",
              "4       UNKNOWN\n",
              "5    DOSTOEVSKY\n",
              "6       CHEKHOV\n",
              "Name: author_name, dtype: object"
            ]
          },
          "metadata": {
            "tags": []
          },
          "execution_count": 66
        }
      ]
    },
    {
      "cell_type": "markdown",
      "metadata": {
        "id": "UPIYDVCmM8Ak"
      },
      "source": [
        "### Группировка данных\n",
        "\n",
        "Данные в таблице `DataFrame` можно группировать по повторяющимся значениям выбранного столбца. Группировка позволяет вычислять какие-то _агренированные_ значения, т.е. значения, полученные каким-то образом из групп других значений. Например, если мы захотим сгруппировать нашу таблицу по значениям `author_name`, то каждая группа будет содержать все строки с одинаковым значением `author_name`. По таким группам можно затем посчитать какую-нибудь агрегирующую функцию, например, сумму, среднее, минимум и др.\n",
        "\n",
        "Вот несколько способов это сделать. В первом случае мы просто выбираем конкретный столбец из группировки и применяем к нему какую-то агрегирующую функцию:"
      ]
    },
    {
      "cell_type": "code",
      "metadata": {
        "id": "50Gbvk6vM8Ak"
      },
      "source": [
        "groupby = df4.groupby(\"author_name\")"
      ],
      "execution_count": null,
      "outputs": []
    },
    {
      "cell_type": "code",
      "metadata": {
        "id": "dsyXi5A0M8Ak",
        "outputId": "c5591ea6-b327-4e99-ff0c-4faa4daebd33"
      },
      "source": [
        "groupby[\"price\"].mean()"
      ],
      "execution_count": null,
      "outputs": [
        {
          "output_type": "execute_result",
          "data": {
            "text/plain": [
              "author_name\n",
              "Chekhov       350.0\n",
              "Dostoevsky    450.0\n",
              "Pushkin         NaN\n",
              "Tolstoy       700.0\n",
              "unknown         NaN\n",
              "Name: price, dtype: float64"
            ]
          },
          "metadata": {
            "tags": []
          },
          "execution_count": 68
        }
      ]
    },
    {
      "cell_type": "markdown",
      "metadata": {
        "id": "epPtbYprM8Al"
      },
      "source": [
        "Второй способ - с помощью метода `.agg`. Данный метод является более гибким. Например, он позволяет вычислять одновременно несколько различных агрегирующих функций от разных столбцов:"
      ]
    },
    {
      "cell_type": "code",
      "metadata": {
        "id": "vKEHhlGRM8Al",
        "outputId": "fc313dc3-cf41-4610-c0eb-93ec7b7833d8"
      },
      "source": [
        "groupby.agg({\"price\": \"max\", \"total\": \"count\"})"
      ],
      "execution_count": null,
      "outputs": [
        {
          "output_type": "execute_result",
          "data": {
            "text/html": [
              "<div>\n",
              "<style scoped>\n",
              "    .dataframe tbody tr th:only-of-type {\n",
              "        vertical-align: middle;\n",
              "    }\n",
              "\n",
              "    .dataframe tbody tr th {\n",
              "        vertical-align: top;\n",
              "    }\n",
              "\n",
              "    .dataframe thead th {\n",
              "        text-align: right;\n",
              "    }\n",
              "</style>\n",
              "<table border=\"1\" class=\"dataframe\">\n",
              "  <thead>\n",
              "    <tr style=\"text-align: right;\">\n",
              "      <th></th>\n",
              "      <th>price</th>\n",
              "      <th>total</th>\n",
              "    </tr>\n",
              "    <tr>\n",
              "      <th>author_name</th>\n",
              "      <th></th>\n",
              "      <th></th>\n",
              "    </tr>\n",
              "  </thead>\n",
              "  <tbody>\n",
              "    <tr>\n",
              "      <th>Chekhov</th>\n",
              "      <td>350.0</td>\n",
              "      <td>1</td>\n",
              "    </tr>\n",
              "    <tr>\n",
              "      <th>Dostoevsky</th>\n",
              "      <td>500.0</td>\n",
              "      <td>3</td>\n",
              "    </tr>\n",
              "    <tr>\n",
              "      <th>Pushkin</th>\n",
              "      <td>NaN</td>\n",
              "      <td>0</td>\n",
              "    </tr>\n",
              "    <tr>\n",
              "      <th>Tolstoy</th>\n",
              "      <td>700.0</td>\n",
              "      <td>1</td>\n",
              "    </tr>\n",
              "    <tr>\n",
              "      <th>unknown</th>\n",
              "      <td>NaN</td>\n",
              "      <td>0</td>\n",
              "    </tr>\n",
              "  </tbody>\n",
              "</table>\n",
              "</div>"
            ],
            "text/plain": [
              "             price  total\n",
              "author_name              \n",
              "Chekhov      350.0      1\n",
              "Dostoevsky   500.0      3\n",
              "Pushkin        NaN      0\n",
              "Tolstoy      700.0      1\n",
              "unknown        NaN      0"
            ]
          },
          "metadata": {
            "tags": []
          },
          "execution_count": 69
        }
      ]
    }
  ]
}