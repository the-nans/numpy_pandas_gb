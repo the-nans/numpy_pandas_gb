{
  "nbformat": 4,
  "nbformat_minor": 0,
  "metadata": {
    "kernelspec": {
      "display_name": "Python 3",
      "language": "python",
      "name": "python3"
    },
    "language_info": {
      "codemirror_mode": {
        "name": "ipython",
        "version": 3
      },
      "file_extension": ".py",
      "mimetype": "text/x-python",
      "name": "python",
      "nbconvert_exporter": "python",
      "pygments_lexer": "ipython3",
      "version": "3.6.7"
    },
    "colab": {
      "name": "Обучение с учителем в Scikit-learn.ipynb",
      "provenance": [],
      "collapsed_sections": [
        "TVZzApDvOA3i",
        "jWvM8H16OA3k",
        "C1fJYf_8OA3q",
        "Ar0pbMPNOA3w",
        "QpPhhcRROA3z",
        "YsO9esuJOA36",
        "iUO420mHOA39",
        "Y5pOXYCIOA4J",
        "tOJoF25COA4N",
        "Si24pRe7OA4T",
        "2_BKWozoOA4V",
        "LHl4mfwUOA4X",
        "98nSHlCtOA4a",
        "S2NctbPLOA4d",
        "2P-cI3YkOA4f",
        "eh5Kdvz3OA4h",
        "V2YvZ8CjOA4q",
        "TQZHch1nOA4t",
        "NxWBIX8KOA4u"
      ],
      "include_colab_link": true
    }
  },
  "cells": [
    {
      "cell_type": "markdown",
      "metadata": {
        "id": "view-in-github",
        "colab_type": "text"
      },
      "source": [
        "<a href=\"https://colab.research.google.com/github/the-nans/numpy_pandas_gb/blob/main/lesson6_and_7.ipynb\" target=\"_parent\"><img src=\"https://colab.research.google.com/assets/colab-badge.svg\" alt=\"Open In Colab\"/></a>"
      ]
    },
    {
      "cell_type": "markdown",
      "metadata": {
        "id": "RQtiPPhrOA3I"
      },
      "source": [
        "# Обучение с учителем в Scikit-learn - практическое задание\n",
        "**Задание 1**\n",
        "\n",
        "Импортируйте библиотеки pandas и numpy.\n",
        "\n",
        "\n",
        "Загрузите \"Boston House Prices dataset\" из встроенных наборов данных библиотеки sklearn. Создайте датафреймы X и y из этих данных.\n",
        "\n",
        "\n"
      ]
    },
    {
      "cell_type": "code",
      "metadata": {
        "id": "01GLAtjROA3L"
      },
      "source": [
        "import warnings\n",
        "\n",
        "warnings.filterwarnings('ignore')\n",
        "\n",
        "import numpy as np\n",
        "import pandas as pd\n",
        "\n",
        "from sklearn.datasets import load_boston\n",
        "boston = load_boston()\n",
        "data = boston['data']\n",
        "feat_names = boston['feature_names']\n",
        "target = boston['target']\n",
        "\n",
        "X = pd.DataFrame(data, columns=feat_names)\n",
        "y = pd.DataFrame(target, columns=[\"price\"])"
      ],
      "execution_count": 3,
      "outputs": []
    },
    {
      "cell_type": "markdown",
      "metadata": {
        "id": "vpA1j1BIOA3S"
      },
      "source": [
        "Разбейте эти датафреймы на тренировочные (X_train, y_train) и тестовые (X_test, y_test) с помощью функции train_test_split так, чтобы размер тестовой выборки\n",
        "составлял 30% от всех данных, при этом аргумент random_state должен быть равен 42.\n",
        "\n",
        "\n",
        "Создайте модель линейной регрессии под названием lr с помощью класса LinearRegression из модуля sklearn.linear_model.\n",
        "\n",
        "\n",
        "Обучите модель на тренировочных данных (используйте все признаки) и сделайте предсказание на тестовых.\n",
        "\n",
        "\n",
        "Вычислите R2 полученных предказаний с помощью r2_score из модуля sklearn.metrics."
      ]
    },
    {
      "cell_type": "code",
      "metadata": {
        "id": "CH8CW4iwOA3j",
        "outputId": "9caec306-c3e1-43ec-f96a-75a082ad4e15",
        "colab": {
          "base_uri": "https://localhost:8080/"
        }
      },
      "source": [
        "from sklearn.model_selection import train_test_split\n",
        "X_train, X_test, y_train, y_test = train_test_split(X, y, test_size=0.3, random_state=42)\n",
        "\n",
        "from sklearn.linear_model import LinearRegression\n",
        "lr = LinearRegression()\n",
        "\n",
        "lr.fit(X_train, y_train)\n",
        "\n",
        "y_pred = lr.predict(X_test)\n",
        "\n",
        "from sklearn.metrics import r2_score\n",
        "r2_score(y_test, y_pred)\n"
      ],
      "execution_count": 4,
      "outputs": [
        {
          "output_type": "execute_result",
          "data": {
            "text/plain": [
              "0.7112260057484974"
            ]
          },
          "metadata": {
            "tags": []
          },
          "execution_count": 4
        }
      ]
    },
    {
      "cell_type": "markdown",
      "metadata": {
        "id": "Ar0pbMPNOA3w"
      },
      "source": [
        "**Задание 2**\n",
        "\n",
        "Создайте модель под названием model с помощью RandomForestRegressor из модуля sklearn.ensemble.\n",
        "\n",
        "Сделайте агрумент n_estimators равным 1000,\n",
        "max_depth должен быть равен 12 и random_state сделайте равным 42.\n",
        "\n",
        "\n",
        "Обучите модель на тренировочных данных аналогично тому, как вы обучали модель LinearRegression,\n",
        "но при этом в метод fit вместо датафрейма y_train поставьте y_train.values[:, 0],\n",
        "чтобы получить из датафрейма одномерный массив Numpy,\n",
        "так как для класса RandomForestRegressor в данном методе для аргумента y предпочтительно применение массивов вместо датафрейма.\n",
        "\n",
        "\n",
        "Сделайте предсказание на тестовых данных и посчитайте R2. Сравните с результатом из предыдущего задания.\n",
        "\n",
        "\n",
        "Напишите в комментариях к коду, какая модель в данном случае работает лучше.\n",
        "\n"
      ]
    },
    {
      "cell_type": "code",
      "metadata": {
        "id": "MMY2jMEHOA3w",
        "outputId": "34b68c3f-1ea5-428b-8136-e57abe83729c",
        "colab": {
          "base_uri": "https://localhost:8080/"
        }
      },
      "source": [
        "from sklearn.ensemble import RandomForestRegressor\n",
        "\n",
        "model = RandomForestRegressor(n_estimators=1000, max_depth=12, random_state=100)\n",
        "model.fit(X_train, y_train.values[:, 0])\n",
        "\n",
        "y_pred = model.predict(X_test)\n",
        "\n",
        "r2_score(y_test, y_pred)\n",
        "\n",
        "# Чем ближе R2 по модулю к единице, тем лучшие результаты даёт модель. В данном случае RandomForestRegressor дал ощутимо лучшие результаты чем линейная модель. "
      ],
      "execution_count": 5,
      "outputs": [
        {
          "output_type": "execute_result",
          "data": {
            "text/plain": [
              "0.8753573433815819"
            ]
          },
          "metadata": {
            "tags": []
          },
          "execution_count": 5
        }
      ]
    },
    {
      "cell_type": "markdown",
      "metadata": {
        "id": "SlghDYGOyvcp"
      },
      "source": [
        "**Задание 3**\n",
        "\n",
        "Вызовите документацию для класса RandomForestRegressor, найдите информацию об атрибуте feature_importances_.\n",
        "\n",
        "С помощью этого атрибута найдите сумму всех показателей важности, установите, какие два признака показывают наибольшую важность.\n"
      ]
    },
    {
      "cell_type": "code",
      "metadata": {
        "id": "EEoNJhOYy-Jh",
        "outputId": "d9a99f0a-6a4c-437f-df66-4eea0fafa892",
        "colab": {
          "base_uri": "https://localhost:8080/"
        }
      },
      "source": [
        "# help(RandomForestRegressor)\n",
        "\n",
        "feats = {} # a dict to hold feature_name: feature_importance\n",
        "for feature, importance in zip(X.columns, model.feature_importances_):\n",
        "    feats[feature] = importance #add the name/value pair\n",
        "imps = model.feature_importances_ \n",
        "sort_feats_vals = sorted(feats.values())\n",
        "max_imp_feats = [sorted(feats.values())[-1], sorted(feats.values())[-2]]\n",
        "print(f\"Сумма всех важностей признаков равна {sum(imps)}, два наиболее важных признака - {list(feats.keys())[list(feats.values()).index(max_imp_feats[0])]}={max_imp_feats[0]} и {list(feats.keys())[list(feats.values()).index(max_imp_feats[1])]}={max_imp_feats[1]}\")\n",
        "\n",
        "\n"
      ],
      "execution_count": 20,
      "outputs": [
        {
          "output_type": "stream",
          "text": [
            "Сумма всех важностей признаков равна 1.0000000000000002, два наиболее важных признака - LSTAT=0.42469418687559807 и RM=0.3917557518024875\n"
          ],
          "name": "stdout"
        }
      ]
    }
  ]
}